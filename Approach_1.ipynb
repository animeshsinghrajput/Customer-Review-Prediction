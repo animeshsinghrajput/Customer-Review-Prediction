{
 "cells": [
  {
   "cell_type": "markdown",
   "metadata": {},
   "source": [
    "## Load Libraries"
   ]
  },
  {
   "cell_type": "markdown",
   "metadata": {},
   "source": [
    "### Load required librarires"
   ]
  },
  {
   "cell_type": "code",
   "execution_count": 1,
   "metadata": {},
   "outputs": [
    {
     "name": "stderr",
     "output_type": "stream",
     "text": [
      "C:\\Users\\anime\\Anaconda3\\lib\\site-packages\\h5py\\__init__.py:36: FutureWarning: Conversion of the second argument of issubdtype from `float` to `np.floating` is deprecated. In future, it will be treated as `np.float64 == np.dtype(float).type`.\n",
      "  from ._conv import register_converters as _register_converters\n",
      "Using TensorFlow backend.\n"
     ]
    }
   ],
   "source": [
    "# Load Libraries\n",
    "import numpy as np\n",
    "import pandas as pd\n",
    "import collections\n",
    "import nltk\n",
    "from keras.preprocessing import sequence\n",
    "from sklearn.model_selection import train_test_split\n",
    "import pickle\n",
    "import os.path\n",
    "from keras.models import Sequential,load_model\n",
    "from keras.layers.core import Activation,Dense,Dropout,SpatialDropout1D\n",
    "from keras.layers.wrappers import Bidirectional\n",
    "from keras.layers.embeddings import Embedding\n",
    "from keras.layers.recurrent import LSTM,GRU\n",
    "from keras import regularizers\n",
    "from keras.callbacks import ModelCheckpoint"
   ]
  },
  {
   "cell_type": "code",
   "execution_count": 2,
   "metadata": {},
   "outputs": [],
   "source": [
    "train=pd.read_csv(\"train.csv\",sep=\"~\", encoding='latin-1')\n",
    "test=pd.read_csv(\"test.csv\",sep=\"~\",encoding='latin-1')"
   ]
  },
  {
   "cell_type": "code",
   "execution_count": 3,
   "metadata": {},
   "outputs": [
    {
     "data": {
      "text/html": [
       "<div>\n",
       "<style scoped>\n",
       "    .dataframe tbody tr th:only-of-type {\n",
       "        vertical-align: middle;\n",
       "    }\n",
       "\n",
       "    .dataframe tbody tr th {\n",
       "        vertical-align: top;\n",
       "    }\n",
       "\n",
       "    .dataframe thead th {\n",
       "        text-align: right;\n",
       "    }\n",
       "</style>\n",
       "<table border=\"1\" class=\"dataframe\">\n",
       "  <thead>\n",
       "    <tr style=\"text-align: right;\">\n",
       "      <th></th>\n",
       "      <th>User_ID</th>\n",
       "      <th>Description</th>\n",
       "      <th>Browser_Used</th>\n",
       "      <th>Device_Used</th>\n",
       "      <th>Is_Response</th>\n",
       "    </tr>\n",
       "  </thead>\n",
       "  <tbody>\n",
       "    <tr>\n",
       "      <th>0</th>\n",
       "      <td>11755</td>\n",
       "      <td>After reading mixed reviews I almost didn't bo...</td>\n",
       "      <td>Google Chrome</td>\n",
       "      <td>Desktop</td>\n",
       "      <td>Good</td>\n",
       "    </tr>\n",
       "    <tr>\n",
       "      <th>1</th>\n",
       "      <td>33912</td>\n",
       "      <td>This motor inn is located about - city blocks ...</td>\n",
       "      <td>Firefox</td>\n",
       "      <td>Tablet</td>\n",
       "      <td>Good</td>\n",
       "    </tr>\n",
       "    <tr>\n",
       "      <th>2</th>\n",
       "      <td>10143</td>\n",
       "      <td>It was our first time there and surely not our...</td>\n",
       "      <td>Google Chrome</td>\n",
       "      <td>Mobile</td>\n",
       "      <td>Good</td>\n",
       "    </tr>\n",
       "    <tr>\n",
       "      <th>3</th>\n",
       "      <td>33114</td>\n",
       "      <td>Great hotel in an excellent location, just off...</td>\n",
       "      <td>Mozilla</td>\n",
       "      <td>Desktop</td>\n",
       "      <td>Good</td>\n",
       "    </tr>\n",
       "    <tr>\n",
       "      <th>4</th>\n",
       "      <td>17464</td>\n",
       "      <td>We stayed at the hotel for - weeks to get away...</td>\n",
       "      <td>Google Chrome</td>\n",
       "      <td>Desktop</td>\n",
       "      <td>Good</td>\n",
       "    </tr>\n",
       "  </tbody>\n",
       "</table>\n",
       "</div>"
      ],
      "text/plain": [
       "   User_ID                                        Description   Browser_Used  \\\n",
       "0    11755  After reading mixed reviews I almost didn't bo...  Google Chrome   \n",
       "1    33912  This motor inn is located about - city blocks ...        Firefox   \n",
       "2    10143  It was our first time there and surely not our...  Google Chrome   \n",
       "3    33114  Great hotel in an excellent location, just off...        Mozilla   \n",
       "4    17464  We stayed at the hotel for - weeks to get away...  Google Chrome   \n",
       "\n",
       "  Device_Used Is_Response  \n",
       "0     Desktop        Good  \n",
       "1      Tablet        Good  \n",
       "2      Mobile        Good  \n",
       "3     Desktop        Good  \n",
       "4     Desktop        Good  "
      ]
     },
     "execution_count": 3,
     "metadata": {},
     "output_type": "execute_result"
    }
   ],
   "source": [
    "train.head()"
   ]
  },
  {
   "cell_type": "code",
   "execution_count": 4,
   "metadata": {},
   "outputs": [
    {
     "data": {
      "text/html": [
       "<div>\n",
       "<style scoped>\n",
       "    .dataframe tbody tr th:only-of-type {\n",
       "        vertical-align: middle;\n",
       "    }\n",
       "\n",
       "    .dataframe tbody tr th {\n",
       "        vertical-align: top;\n",
       "    }\n",
       "\n",
       "    .dataframe thead th {\n",
       "        text-align: right;\n",
       "    }\n",
       "</style>\n",
       "<table border=\"1\" class=\"dataframe\">\n",
       "  <thead>\n",
       "    <tr style=\"text-align: right;\">\n",
       "      <th></th>\n",
       "      <th>User_ID</th>\n",
       "      <th>Description</th>\n",
       "      <th>Browser_Used</th>\n",
       "      <th>Device_Used</th>\n",
       "    </tr>\n",
       "  </thead>\n",
       "  <tbody>\n",
       "    <tr>\n",
       "      <th>0</th>\n",
       "      <td>9602</td>\n",
       "      <td>A friend and I stayed in this hotel when we we...</td>\n",
       "      <td>Edge</td>\n",
       "      <td>Desktop</td>\n",
       "    </tr>\n",
       "    <tr>\n",
       "      <th>1</th>\n",
       "      <td>8749</td>\n",
       "      <td>I enjoy staying here when I have early flights...</td>\n",
       "      <td>Google Chrome</td>\n",
       "      <td>Mobile</td>\n",
       "    </tr>\n",
       "    <tr>\n",
       "      <th>2</th>\n",
       "      <td>15500</td>\n",
       "      <td>I stopped off in Seattle during a train tour o...</td>\n",
       "      <td>Chrome</td>\n",
       "      <td>Mobile</td>\n",
       "    </tr>\n",
       "    <tr>\n",
       "      <th>3</th>\n",
       "      <td>5495</td>\n",
       "      <td>I have stayed at this hotel - or - times now f...</td>\n",
       "      <td>Mozilla Firefox</td>\n",
       "      <td>Desktop</td>\n",
       "    </tr>\n",
       "    <tr>\n",
       "      <th>4</th>\n",
       "      <td>18570</td>\n",
       "      <td>Excellent location with hop on hop off city tr...</td>\n",
       "      <td>Edge</td>\n",
       "      <td>Mobile</td>\n",
       "    </tr>\n",
       "  </tbody>\n",
       "</table>\n",
       "</div>"
      ],
      "text/plain": [
       "   User_ID                                        Description  \\\n",
       "0     9602  A friend and I stayed in this hotel when we we...   \n",
       "1     8749  I enjoy staying here when I have early flights...   \n",
       "2    15500  I stopped off in Seattle during a train tour o...   \n",
       "3     5495  I have stayed at this hotel - or - times now f...   \n",
       "4    18570  Excellent location with hop on hop off city tr...   \n",
       "\n",
       "      Browser_Used Device_Used  \n",
       "0             Edge     Desktop  \n",
       "1    Google Chrome      Mobile  \n",
       "2           Chrome      Mobile  \n",
       "3  Mozilla Firefox     Desktop  \n",
       "4             Edge      Mobile  "
      ]
     },
     "execution_count": 4,
     "metadata": {},
     "output_type": "execute_result"
    }
   ],
   "source": [
    "test.head()"
   ]
  },
  {
   "cell_type": "markdown",
   "metadata": {},
   "source": [
    "## Prepare Data"
   ]
  },
  {
   "cell_type": "markdown",
   "metadata": {},
   "source": [
    "### prepare train data"
   ]
  },
  {
   "cell_type": "code",
   "execution_count": 5,
   "metadata": {},
   "outputs": [],
   "source": [
    "maxlen=0\n",
    "word_freqs=collections.Counter()"
   ]
  },
  {
   "cell_type": "code",
   "execution_count": 6,
   "metadata": {},
   "outputs": [
    {
     "data": {
      "text/plain": [
       "0    After reading mixed reviews I almost didn't bo...\n",
       "1    This motor inn is located about - city blocks ...\n",
       "2    It was our first time there and surely not our...\n",
       "3    Great hotel in an excellent location, just off...\n",
       "4    We stayed at the hotel for - weeks to get away...\n",
       "Name: Description, dtype: object"
      ]
     },
     "execution_count": 6,
     "metadata": {},
     "output_type": "execute_result"
    }
   ],
   "source": [
    "train_description=train[\"Description\"]\n",
    "train_description.head()"
   ]
  },
  {
   "cell_type": "code",
   "execution_count": 7,
   "metadata": {},
   "outputs": [
    {
     "data": {
      "text/plain": [
       "0    A friend and I stayed in this hotel when we we...\n",
       "1    I enjoy staying here when I have early flights...\n",
       "2    I stopped off in Seattle during a train tour o...\n",
       "3    I have stayed at this hotel - or - times now f...\n",
       "4    Excellent location with hop on hop off city tr...\n",
       "Name: Description, dtype: object"
      ]
     },
     "execution_count": 7,
     "metadata": {},
     "output_type": "execute_result"
    }
   ],
   "source": [
    "test_description=test[\"Description\"]\n",
    "test_description.head()"
   ]
  },
  {
   "cell_type": "code",
   "execution_count": 8,
   "metadata": {},
   "outputs": [],
   "source": [
    "for sentence in train_description:\n",
    "    words=nltk.word_tokenize(sentence.lower())\n",
    "    if len(words)>maxlen:\n",
    "        maxlen=len(words)\n",
    "    for word in words:\n",
    "        word_freqs[word]+=1"
   ]
  },
  {
   "cell_type": "code",
   "execution_count": 9,
   "metadata": {},
   "outputs": [
    {
     "data": {
      "text/plain": [
       "(3767, 56413)"
      ]
     },
     "execution_count": 9,
     "metadata": {},
     "output_type": "execute_result"
    }
   ],
   "source": [
    "maxlen,len(word_freqs)"
   ]
  },
  {
   "cell_type": "code",
   "execution_count": 10,
   "metadata": {},
   "outputs": [],
   "source": [
    "MAX_SENTENCE_LENGTH=500\n",
    "MAX_FEATURES=30000\n",
    "vocab_size=min(MAX_FEATURES,len(word_freqs))+2\n",
    "word2index={x[0]:i+2 for i,x in enumerate(word_freqs.most_common(MAX_FEATURES))}\n",
    "word2index[\"PAD\"]=0\n",
    "word2index[\"UNK\"]=1\n",
    "index2word={v:k for k,v in word2index.items()}"
   ]
  },
  {
   "cell_type": "code",
   "execution_count": 11,
   "metadata": {},
   "outputs": [
    {
     "data": {
      "text/plain": [
       "30002"
      ]
     },
     "execution_count": 11,
     "metadata": {},
     "output_type": "execute_result"
    }
   ],
   "source": [
    "vocab_size"
   ]
  },
  {
   "cell_type": "code",
   "execution_count": 12,
   "metadata": {},
   "outputs": [
    {
     "data": {
      "text/plain": [
       "(0, 'PAD')"
      ]
     },
     "execution_count": 12,
     "metadata": {},
     "output_type": "execute_result"
    }
   ],
   "source": [
    "word2index[\"PAD\"],index2word[0]"
   ]
  },
  {
   "cell_type": "code",
   "execution_count": 13,
   "metadata": {},
   "outputs": [
    {
     "data": {
      "text/plain": [
       "['Good', 'Good', 'Good', 'Good', 'Good', 'Good', 'Bad', 'Bad', 'Good', 'Good']"
      ]
     },
     "execution_count": 13,
     "metadata": {},
     "output_type": "execute_result"
    }
   ],
   "source": [
    "X_train_filename=\"X_train.p\"\n",
    "X_test_filename=\"X_test.p\"\n",
    "y_train_filename=\"y_train.p\"\n",
    "model_filename=\"model.h5\"\n",
    "\n",
    "def normalize(train_description):\n",
    "    X=np.empty((train_description.size,),dtype=list)\n",
    "    i=0\n",
    "    for sentence in train_description:\n",
    "        words=nltk.word_tokenize(sentence.lower())\n",
    "        seqs=[]\n",
    "        for word in words:\n",
    "            if word in word2index:\n",
    "                seqs.append(word2index[word])\n",
    "            else:\n",
    "                seqs.append(word2index[\"UNK\"])\n",
    "        X[i]=seqs\n",
    "        i+=1\n",
    "    return sequence.pad_sequences(X,maxlen=MAX_SENTENCE_LENGTH)\n",
    "\n",
    "def denormalize_response(predictions):\n",
    "    return ['Good' if x > 0.5  else 'Bad' for x in predictions]\n",
    "\n",
    "def normalize_response(predictions):\n",
    "    return [1 if x == 'Good' else 0 for x in predictions]\n",
    "\n",
    "def load_data(force=False):\n",
    "    if os.path.exists(X_train_filename) and os.path.exists(X_test_filename) and os.path.exists(y_train_filename) and not force:        \n",
    "        X_train=pickle.load( open( X_train_filename, \"rb\" ) )\n",
    "        X_test=pickle.load( open( X_test_filename, \"rb\" ) )\n",
    "        y_train=pickle.load( open( y_train_filename, \"rb\" ) )\n",
    "    else:\n",
    "        X_train=normalize(train_description)\n",
    "        X_test=normalize(test_description)\n",
    "        y_train=normalize_response(train[\"Is_Response\"])\n",
    "        pickle.dump( X_train, open( X_train_filename, \"wb\" ))\n",
    "        pickle.dump( X_test, open( X_test_filename, \"wb\" ))\n",
    "        pickle.dump( y_train, open( y_train_filename, \"wb\" ))\n",
    "    return X_train,X_test,y_train\n",
    "\n",
    "X_train,X_test,y_train=load_data()\n",
    "denormalize_response(normalize_response(train[\"Is_Response\"]))[:10]"
   ]
  },
  {
   "cell_type": "code",
   "execution_count": 14,
   "metadata": {},
   "outputs": [],
   "source": [
    "Xtrain,Xtest,ytrain,ytest=train_test_split(X_train,y_train,test_size=0.3,random_state=40)"
   ]
  },
  {
   "cell_type": "markdown",
   "metadata": {},
   "source": [
    "## Train Model"
   ]
  },
  {
   "cell_type": "markdown",
   "metadata": {},
   "source": [
    "### Train model on prepared data"
   ]
  },
  {
   "cell_type": "code",
   "execution_count": 15,
   "metadata": {},
   "outputs": [
    {
     "name": "stdout",
     "output_type": "stream",
     "text": [
      "Train on 21120 samples, validate on 9052 samples\n",
      "Epoch 1/2\n",
      "21120/21120 [==============================] - 499s 24ms/step - loss: 0.2797 - acc: 0.8893 - val_loss: 0.3723 - val_acc: 0.8572\n",
      "Epoch 2/2\n",
      "21120/21120 [==============================] - 480s 23ms/step - loss: 0.2741 - acc: 0.8920 - val_loss: 0.3143 - val_acc: 0.8727\n"
     ]
    }
   ],
   "source": [
    "EMBEDDING_SIZE=128\n",
    "HIDDEN_LAYER_SIZE=64\n",
    "BATCH_SIZE=32\n",
    "NUM_EPOCHS=2\n",
    "DROPOUT=0.1\n",
    "\n",
    "def load_train_model(force=False):\n",
    "    if os.path.exists(model_filename) and not force:\n",
    "        model=load_model(model_filename)\n",
    "    else:\n",
    "        print(\"Force load model.\")\n",
    "        model=Sequential()\n",
    "        model.add(Embedding(vocab_size,EMBEDDING_SIZE,input_length=MAX_SENTENCE_LENGTH))\n",
    "        model.add(SpatialDropout1D(DROPOUT))\n",
    "        model.add(Bidirectional(LSTM(HIDDEN_LAYER_SIZE,dropout=DROPOUT,recurrent_dropout=DROPOUT)))\n",
    "        model.add(Dense(1))\n",
    "        model.add(Activation(\"sigmoid\"))\n",
    "        model.compile(loss=\"binary_crossentropy\",optimizer=\"rmsprop\",metrics=[\"accuracy\"])\n",
    "    return model\n",
    "\n",
    "checkpoint=ModelCheckpoint(model_filename, monitor='val_acc', verbose=0, save_best_only=False, mode='auto', period=1)\n",
    "model=load_train_model()\n",
    "history=model.fit(Xtrain,ytrain,batch_size=BATCH_SIZE,epochs=NUM_EPOCHS,validation_data=(Xtest,ytest),callbacks=[checkpoint])"
   ]
  },
  {
   "cell_type": "code",
   "execution_count": 18,
   "metadata": {},
   "outputs": [
    {
     "data": {
      "text/plain": [
       "['Good', 'Good', 'Good', 'Good', 'Good', 'Good', 'Bad', 'Good', 'Good', 'Good']"
      ]
     },
     "execution_count": 18,
     "metadata": {},
     "output_type": "execute_result"
    }
   ],
   "source": [
    "model=load_model(model_filename)\n",
    "model.compile(loss=\"binary_crossentropy\",optimizer=\"rmsprop\",metrics=[\"accuracy\"])\n",
    "predictions=model.predict(X_test)\n",
    "predictions=denormalize_response(predictions)\n",
    "predictions[:10]"
   ]
  },
  {
   "cell_type": "code",
   "execution_count": 19,
   "metadata": {},
   "outputs": [
    {
     "name": "stdout",
     "output_type": "stream",
     "text": [
      "File Saved!\n"
     ]
    },
    {
     "data": {
      "text/html": [
       "<div>\n",
       "<style scoped>\n",
       "    .dataframe tbody tr th:only-of-type {\n",
       "        vertical-align: middle;\n",
       "    }\n",
       "\n",
       "    .dataframe tbody tr th {\n",
       "        vertical-align: top;\n",
       "    }\n",
       "\n",
       "    .dataframe thead th {\n",
       "        text-align: right;\n",
       "    }\n",
       "</style>\n",
       "<table border=\"1\" class=\"dataframe\">\n",
       "  <thead>\n",
       "    <tr style=\"text-align: right;\">\n",
       "      <th></th>\n",
       "      <th>User_ID</th>\n",
       "      <th>Is_Response</th>\n",
       "    </tr>\n",
       "  </thead>\n",
       "  <tbody>\n",
       "    <tr>\n",
       "      <th>0</th>\n",
       "      <td>9602</td>\n",
       "      <td>Good</td>\n",
       "    </tr>\n",
       "    <tr>\n",
       "      <th>1</th>\n",
       "      <td>8749</td>\n",
       "      <td>Good</td>\n",
       "    </tr>\n",
       "    <tr>\n",
       "      <th>2</th>\n",
       "      <td>15500</td>\n",
       "      <td>Good</td>\n",
       "    </tr>\n",
       "    <tr>\n",
       "      <th>3</th>\n",
       "      <td>5495</td>\n",
       "      <td>Good</td>\n",
       "    </tr>\n",
       "    <tr>\n",
       "      <th>4</th>\n",
       "      <td>18570</td>\n",
       "      <td>Good</td>\n",
       "    </tr>\n",
       "  </tbody>\n",
       "</table>\n",
       "</div>"
      ],
      "text/plain": [
       "   User_ID Is_Response\n",
       "0     9602        Good\n",
       "1     8749        Good\n",
       "2    15500        Good\n",
       "3     5495        Good\n",
       "4    18570        Good"
      ]
     },
     "execution_count": 19,
     "metadata": {},
     "output_type": "execute_result"
    }
   ],
   "source": [
    "test_result_filename=\"Approach_1.csv\"\n",
    "test_result=pd.concat([test['User_ID'],pd.DataFrame(predictions)],axis=1)\n",
    "test_result.columns=['User_ID','Is_Response']\n",
    "test_result.to_csv(test_result_filename,sep=\"~\",index=False)\n",
    "print(\"File Saved!\")\n",
    "test_result.head()"
   ]
  },
  {
   "cell_type": "code",
   "execution_count": null,
   "metadata": {},
   "outputs": [],
   "source": []
  }
 ],
 "metadata": {
  "kernelspec": {
   "display_name": "Python 3",
   "language": "python",
   "name": "python3"
  },
  "language_info": {
   "codemirror_mode": {
    "name": "ipython",
    "version": 3
   },
   "file_extension": ".py",
   "mimetype": "text/x-python",
   "name": "python",
   "nbconvert_exporter": "python",
   "pygments_lexer": "ipython3",
   "version": "3.6.5"
  }
 },
 "nbformat": 4,
 "nbformat_minor": 2
}
