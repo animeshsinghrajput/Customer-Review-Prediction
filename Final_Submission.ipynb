{
 "cells": [
  {
   "cell_type": "code",
   "execution_count": 5,
   "metadata": {},
   "outputs": [],
   "source": [
    "import pandas as pd\n",
    "import string\n",
    "import nltk"
   ]
  },
  {
   "cell_type": "code",
   "execution_count": 6,
   "metadata": {},
   "outputs": [],
   "source": [
    "Data=pd.read_csv(\"train.csv\",sep= \"~\")"
   ]
  },
  {
   "cell_type": "code",
   "execution_count": 7,
   "metadata": {},
   "outputs": [
    {
     "data": {
      "text/html": [
       "<div>\n",
       "<style scoped>\n",
       "    .dataframe tbody tr th:only-of-type {\n",
       "        vertical-align: middle;\n",
       "    }\n",
       "\n",
       "    .dataframe tbody tr th {\n",
       "        vertical-align: top;\n",
       "    }\n",
       "\n",
       "    .dataframe thead th {\n",
       "        text-align: right;\n",
       "    }\n",
       "</style>\n",
       "<table border=\"1\" class=\"dataframe\">\n",
       "  <thead>\n",
       "    <tr style=\"text-align: right;\">\n",
       "      <th></th>\n",
       "      <th>User_ID</th>\n",
       "      <th>Description</th>\n",
       "      <th>Browser_Used</th>\n",
       "      <th>Device_Used</th>\n",
       "      <th>Is_Response</th>\n",
       "    </tr>\n",
       "  </thead>\n",
       "  <tbody>\n",
       "    <tr>\n",
       "      <th>0</th>\n",
       "      <td>11755</td>\n",
       "      <td>After reading mixed reviews I almost didn't bo...</td>\n",
       "      <td>Google Chrome</td>\n",
       "      <td>Desktop</td>\n",
       "      <td>Good</td>\n",
       "    </tr>\n",
       "    <tr>\n",
       "      <th>1</th>\n",
       "      <td>33912</td>\n",
       "      <td>This motor inn is located about - city blocks ...</td>\n",
       "      <td>Firefox</td>\n",
       "      <td>Tablet</td>\n",
       "      <td>Good</td>\n",
       "    </tr>\n",
       "    <tr>\n",
       "      <th>2</th>\n",
       "      <td>10143</td>\n",
       "      <td>It was our first time there and surely not our...</td>\n",
       "      <td>Google Chrome</td>\n",
       "      <td>Mobile</td>\n",
       "      <td>Good</td>\n",
       "    </tr>\n",
       "    <tr>\n",
       "      <th>3</th>\n",
       "      <td>33114</td>\n",
       "      <td>Great hotel in an excellent location, just off...</td>\n",
       "      <td>Mozilla</td>\n",
       "      <td>Desktop</td>\n",
       "      <td>Good</td>\n",
       "    </tr>\n",
       "    <tr>\n",
       "      <th>4</th>\n",
       "      <td>17464</td>\n",
       "      <td>We stayed at the hotel for - weeks to get away...</td>\n",
       "      <td>Google Chrome</td>\n",
       "      <td>Desktop</td>\n",
       "      <td>Good</td>\n",
       "    </tr>\n",
       "    <tr>\n",
       "      <th>5</th>\n",
       "      <td>34367</td>\n",
       "      <td>Myself and two girlfriends were in NYC for - n...</td>\n",
       "      <td>InternetExplorer</td>\n",
       "      <td>Mobile</td>\n",
       "      <td>Good</td>\n",
       "    </tr>\n",
       "    <tr>\n",
       "      <th>6</th>\n",
       "      <td>14524</td>\n",
       "      <td>I made last minute reservation and couldnt fin...</td>\n",
       "      <td>Edge</td>\n",
       "      <td>Desktop</td>\n",
       "      <td>Bad</td>\n",
       "    </tr>\n",
       "    <tr>\n",
       "      <th>7</th>\n",
       "      <td>35130</td>\n",
       "      <td>Stayed at this hotel for - week. Very nice hot...</td>\n",
       "      <td>InternetExplorer</td>\n",
       "      <td>Mobile</td>\n",
       "      <td>Bad</td>\n",
       "    </tr>\n",
       "    <tr>\n",
       "      <th>8</th>\n",
       "      <td>1004</td>\n",
       "      <td>My wife and I stayed in the Michelangelo for -...</td>\n",
       "      <td>InternetExplorer</td>\n",
       "      <td>Desktop</td>\n",
       "      <td>Good</td>\n",
       "    </tr>\n",
       "    <tr>\n",
       "      <th>9</th>\n",
       "      <td>27086</td>\n",
       "      <td>My wife and I stayed their after a business me...</td>\n",
       "      <td>InternetExplorer</td>\n",
       "      <td>Desktop</td>\n",
       "      <td>Good</td>\n",
       "    </tr>\n",
       "    <tr>\n",
       "      <th>10</th>\n",
       "      <td>8707</td>\n",
       "      <td>My mom and I stayed here for - nights on a sho...</td>\n",
       "      <td>Edge</td>\n",
       "      <td>Mobile</td>\n",
       "      <td>Good</td>\n",
       "    </tr>\n",
       "    <tr>\n",
       "      <th>11</th>\n",
       "      <td>24519</td>\n",
       "      <td>Do not stay here! The decor is okay, but I was...</td>\n",
       "      <td>Mozilla Firefox</td>\n",
       "      <td>Tablet</td>\n",
       "      <td>Bad</td>\n",
       "    </tr>\n",
       "    <tr>\n",
       "      <th>12</th>\n",
       "      <td>17129</td>\n",
       "      <td>We stayed here after and before flights into a...</td>\n",
       "      <td>Internet Explorer</td>\n",
       "      <td>Desktop</td>\n",
       "      <td>Good</td>\n",
       "    </tr>\n",
       "    <tr>\n",
       "      <th>13</th>\n",
       "      <td>38881</td>\n",
       "      <td>My main point would be - for the money you can...</td>\n",
       "      <td>Firefox</td>\n",
       "      <td>Mobile</td>\n",
       "      <td>Bad</td>\n",
       "    </tr>\n",
       "    <tr>\n",
       "      <th>14</th>\n",
       "      <td>22551</td>\n",
       "      <td>this hotel is lovely and clean, there are howe...</td>\n",
       "      <td>Firefox</td>\n",
       "      <td>Mobile</td>\n",
       "      <td>Good</td>\n",
       "    </tr>\n",
       "    <tr>\n",
       "      <th>15</th>\n",
       "      <td>24707</td>\n",
       "      <td>My husband, ---year-old daughter and I just re...</td>\n",
       "      <td>Chrome</td>\n",
       "      <td>Desktop</td>\n",
       "      <td>Good</td>\n",
       "    </tr>\n",
       "    <tr>\n",
       "      <th>16</th>\n",
       "      <td>842</td>\n",
       "      <td>The service was great.But The rooms were nothi...</td>\n",
       "      <td>Firefox</td>\n",
       "      <td>Desktop</td>\n",
       "      <td>Bad</td>\n",
       "    </tr>\n",
       "    <tr>\n",
       "      <th>17</th>\n",
       "      <td>5715</td>\n",
       "      <td>No major complaints. Clean room but very small...</td>\n",
       "      <td>Edge</td>\n",
       "      <td>Mobile</td>\n",
       "      <td>Bad</td>\n",
       "    </tr>\n",
       "    <tr>\n",
       "      <th>18</th>\n",
       "      <td>816</td>\n",
       "      <td>Spent two nights at the Grand Hyatt when I was...</td>\n",
       "      <td>IE</td>\n",
       "      <td>Mobile</td>\n",
       "      <td>Good</td>\n",
       "    </tr>\n",
       "    <tr>\n",
       "      <th>19</th>\n",
       "      <td>5830</td>\n",
       "      <td>We recently had our daughter's wedding recepti...</td>\n",
       "      <td>Mozilla Firefox</td>\n",
       "      <td>Mobile</td>\n",
       "      <td>Good</td>\n",
       "    </tr>\n",
       "  </tbody>\n",
       "</table>\n",
       "</div>"
      ],
      "text/plain": [
       "    User_ID                                        Description  \\\n",
       "0     11755  After reading mixed reviews I almost didn't bo...   \n",
       "1     33912  This motor inn is located about - city blocks ...   \n",
       "2     10143  It was our first time there and surely not our...   \n",
       "3     33114  Great hotel in an excellent location, just off...   \n",
       "4     17464  We stayed at the hotel for - weeks to get away...   \n",
       "5     34367  Myself and two girlfriends were in NYC for - n...   \n",
       "6     14524  I made last minute reservation and couldnt fin...   \n",
       "7     35130  Stayed at this hotel for - week. Very nice hot...   \n",
       "8      1004  My wife and I stayed in the Michelangelo for -...   \n",
       "9     27086  My wife and I stayed their after a business me...   \n",
       "10     8707  My mom and I stayed here for - nights on a sho...   \n",
       "11    24519  Do not stay here! The decor is okay, but I was...   \n",
       "12    17129  We stayed here after and before flights into a...   \n",
       "13    38881  My main point would be - for the money you can...   \n",
       "14    22551  this hotel is lovely and clean, there are howe...   \n",
       "15    24707  My husband, ---year-old daughter and I just re...   \n",
       "16      842  The service was great.But The rooms were nothi...   \n",
       "17     5715  No major complaints. Clean room but very small...   \n",
       "18      816  Spent two nights at the Grand Hyatt when I was...   \n",
       "19     5830  We recently had our daughter's wedding recepti...   \n",
       "\n",
       "         Browser_Used Device_Used Is_Response  \n",
       "0       Google Chrome     Desktop        Good  \n",
       "1             Firefox      Tablet        Good  \n",
       "2       Google Chrome      Mobile        Good  \n",
       "3             Mozilla     Desktop        Good  \n",
       "4       Google Chrome     Desktop        Good  \n",
       "5    InternetExplorer      Mobile        Good  \n",
       "6                Edge     Desktop         Bad  \n",
       "7    InternetExplorer      Mobile         Bad  \n",
       "8    InternetExplorer     Desktop        Good  \n",
       "9    InternetExplorer     Desktop        Good  \n",
       "10               Edge      Mobile        Good  \n",
       "11    Mozilla Firefox      Tablet         Bad  \n",
       "12  Internet Explorer     Desktop        Good  \n",
       "13            Firefox      Mobile         Bad  \n",
       "14            Firefox      Mobile        Good  \n",
       "15             Chrome     Desktop        Good  \n",
       "16            Firefox     Desktop         Bad  \n",
       "17               Edge      Mobile         Bad  \n",
       "18                 IE      Mobile        Good  \n",
       "19    Mozilla Firefox      Mobile        Good  "
      ]
     },
     "execution_count": 7,
     "metadata": {},
     "output_type": "execute_result"
    }
   ],
   "source": [
    "Data.head(20)"
   ]
  },
  {
   "cell_type": "code",
   "execution_count": 8,
   "metadata": {},
   "outputs": [
    {
     "data": {
      "text/plain": [
       "(30172, 5)"
      ]
     },
     "execution_count": 8,
     "metadata": {},
     "output_type": "execute_result"
    }
   ],
   "source": [
    "Data.shape"
   ]
  },
  {
   "cell_type": "code",
   "execution_count": 9,
   "metadata": {},
   "outputs": [
    {
     "data": {
      "text/plain": [
       "User_ID         0\n",
       "Description     0\n",
       "Browser_Used    0\n",
       "Device_Used     0\n",
       "Is_Response     0\n",
       "dtype: int64"
      ]
     },
     "execution_count": 9,
     "metadata": {},
     "output_type": "execute_result"
    }
   ],
   "source": [
    "Data.isna().sum()"
   ]
  },
  {
   "cell_type": "code",
   "execution_count": 10,
   "metadata": {},
   "outputs": [
    {
     "data": {
      "text/html": [
       "<div>\n",
       "<style scoped>\n",
       "    .dataframe tbody tr th:only-of-type {\n",
       "        vertical-align: middle;\n",
       "    }\n",
       "\n",
       "    .dataframe tbody tr th {\n",
       "        vertical-align: top;\n",
       "    }\n",
       "\n",
       "    .dataframe thead th {\n",
       "        text-align: right;\n",
       "    }\n",
       "</style>\n",
       "<table border=\"1\" class=\"dataframe\">\n",
       "  <thead>\n",
       "    <tr style=\"text-align: right;\">\n",
       "      <th></th>\n",
       "      <th>User_ID</th>\n",
       "      <th>Description</th>\n",
       "      <th>Browser_Used</th>\n",
       "      <th>Device_Used</th>\n",
       "      <th>Is_Response</th>\n",
       "    </tr>\n",
       "  </thead>\n",
       "  <tbody>\n",
       "    <tr>\n",
       "      <th>count</th>\n",
       "      <td>30172.000000</td>\n",
       "      <td>30172</td>\n",
       "      <td>30172</td>\n",
       "      <td>30172</td>\n",
       "      <td>30172</td>\n",
       "    </tr>\n",
       "    <tr>\n",
       "      <th>unique</th>\n",
       "      <td>NaN</td>\n",
       "      <td>30172</td>\n",
       "      <td>11</td>\n",
       "      <td>3</td>\n",
       "      <td>2</td>\n",
       "    </tr>\n",
       "    <tr>\n",
       "      <th>top</th>\n",
       "      <td>NaN</td>\n",
       "      <td>I've stayed at many Comfort Inns, and reviewed...</td>\n",
       "      <td>Firefox</td>\n",
       "      <td>Mobile</td>\n",
       "      <td>Good</td>\n",
       "    </tr>\n",
       "    <tr>\n",
       "      <th>freq</th>\n",
       "      <td>NaN</td>\n",
       "      <td>1</td>\n",
       "      <td>5754</td>\n",
       "      <td>11639</td>\n",
       "      <td>20567</td>\n",
       "    </tr>\n",
       "    <tr>\n",
       "      <th>mean</th>\n",
       "      <td>19394.643113</td>\n",
       "      <td>NaN</td>\n",
       "      <td>NaN</td>\n",
       "      <td>NaN</td>\n",
       "      <td>NaN</td>\n",
       "    </tr>\n",
       "    <tr>\n",
       "      <th>std</th>\n",
       "      <td>11255.034590</td>\n",
       "      <td>NaN</td>\n",
       "      <td>NaN</td>\n",
       "      <td>NaN</td>\n",
       "      <td>NaN</td>\n",
       "    </tr>\n",
       "    <tr>\n",
       "      <th>min</th>\n",
       "      <td>0.000000</td>\n",
       "      <td>NaN</td>\n",
       "      <td>NaN</td>\n",
       "      <td>NaN</td>\n",
       "      <td>NaN</td>\n",
       "    </tr>\n",
       "    <tr>\n",
       "      <th>25%</th>\n",
       "      <td>9649.750000</td>\n",
       "      <td>NaN</td>\n",
       "      <td>NaN</td>\n",
       "      <td>NaN</td>\n",
       "      <td>NaN</td>\n",
       "    </tr>\n",
       "    <tr>\n",
       "      <th>50%</th>\n",
       "      <td>19358.500000</td>\n",
       "      <td>NaN</td>\n",
       "      <td>NaN</td>\n",
       "      <td>NaN</td>\n",
       "      <td>NaN</td>\n",
       "    </tr>\n",
       "    <tr>\n",
       "      <th>75%</th>\n",
       "      <td>29173.250000</td>\n",
       "      <td>NaN</td>\n",
       "      <td>NaN</td>\n",
       "      <td>NaN</td>\n",
       "      <td>NaN</td>\n",
       "    </tr>\n",
       "    <tr>\n",
       "      <th>max</th>\n",
       "      <td>38931.000000</td>\n",
       "      <td>NaN</td>\n",
       "      <td>NaN</td>\n",
       "      <td>NaN</td>\n",
       "      <td>NaN</td>\n",
       "    </tr>\n",
       "  </tbody>\n",
       "</table>\n",
       "</div>"
      ],
      "text/plain": [
       "             User_ID                                        Description  \\\n",
       "count   30172.000000                                              30172   \n",
       "unique           NaN                                              30172   \n",
       "top              NaN  I've stayed at many Comfort Inns, and reviewed...   \n",
       "freq             NaN                                                  1   \n",
       "mean    19394.643113                                                NaN   \n",
       "std     11255.034590                                                NaN   \n",
       "min         0.000000                                                NaN   \n",
       "25%      9649.750000                                                NaN   \n",
       "50%     19358.500000                                                NaN   \n",
       "75%     29173.250000                                                NaN   \n",
       "max     38931.000000                                                NaN   \n",
       "\n",
       "       Browser_Used Device_Used Is_Response  \n",
       "count         30172       30172       30172  \n",
       "unique           11           3           2  \n",
       "top         Firefox      Mobile        Good  \n",
       "freq           5754       11639       20567  \n",
       "mean            NaN         NaN         NaN  \n",
       "std             NaN         NaN         NaN  \n",
       "min             NaN         NaN         NaN  \n",
       "25%             NaN         NaN         NaN  \n",
       "50%             NaN         NaN         NaN  \n",
       "75%             NaN         NaN         NaN  \n",
       "max             NaN         NaN         NaN  "
      ]
     },
     "execution_count": 10,
     "metadata": {},
     "output_type": "execute_result"
    }
   ],
   "source": [
    "Data.describe(include=\"all\")"
   ]
  },
  {
   "cell_type": "code",
   "execution_count": 11,
   "metadata": {},
   "outputs": [],
   "source": [
    "Data=Data.drop([\"Browser_Used\",\"Device_Used\"],axis=1)  #Dropping Browser used and Device Used as it not Relevant We can use \n",
    "                                                       #it for grouping thogh to see from which browser most Response is \n",
    "                                                       #Coming using which Device"
   ]
  },
  {
   "cell_type": "code",
   "execution_count": 12,
   "metadata": {},
   "outputs": [],
   "source": [
    "from sklearn.preprocessing import LabelEncoder"
   ]
  },
  {
   "cell_type": "code",
   "execution_count": 13,
   "metadata": {},
   "outputs": [],
   "source": [
    "label=LabelEncoder()\n",
    "Data['Categorial Response']=label.fit_transform(Data[\"Is_Response\"])"
   ]
  },
  {
   "cell_type": "code",
   "execution_count": 14,
   "metadata": {},
   "outputs": [],
   "source": [
    "Data=Data.drop(['Is_Response'],axis=1)"
   ]
  },
  {
   "cell_type": "code",
   "execution_count": 15,
   "metadata": {},
   "outputs": [
    {
     "data": {
      "text/html": [
       "<div>\n",
       "<style scoped>\n",
       "    .dataframe tbody tr th:only-of-type {\n",
       "        vertical-align: middle;\n",
       "    }\n",
       "\n",
       "    .dataframe tbody tr th {\n",
       "        vertical-align: top;\n",
       "    }\n",
       "\n",
       "    .dataframe thead th {\n",
       "        text-align: right;\n",
       "    }\n",
       "</style>\n",
       "<table border=\"1\" class=\"dataframe\">\n",
       "  <thead>\n",
       "    <tr style=\"text-align: right;\">\n",
       "      <th></th>\n",
       "      <th>User_ID</th>\n",
       "      <th>Description</th>\n",
       "      <th>Categorial Response</th>\n",
       "    </tr>\n",
       "  </thead>\n",
       "  <tbody>\n",
       "    <tr>\n",
       "      <th>0</th>\n",
       "      <td>11755</td>\n",
       "      <td>After reading mixed reviews I almost didn't bo...</td>\n",
       "      <td>1</td>\n",
       "    </tr>\n",
       "    <tr>\n",
       "      <th>1</th>\n",
       "      <td>33912</td>\n",
       "      <td>This motor inn is located about - city blocks ...</td>\n",
       "      <td>1</td>\n",
       "    </tr>\n",
       "    <tr>\n",
       "      <th>2</th>\n",
       "      <td>10143</td>\n",
       "      <td>It was our first time there and surely not our...</td>\n",
       "      <td>1</td>\n",
       "    </tr>\n",
       "    <tr>\n",
       "      <th>3</th>\n",
       "      <td>33114</td>\n",
       "      <td>Great hotel in an excellent location, just off...</td>\n",
       "      <td>1</td>\n",
       "    </tr>\n",
       "    <tr>\n",
       "      <th>4</th>\n",
       "      <td>17464</td>\n",
       "      <td>We stayed at the hotel for - weeks to get away...</td>\n",
       "      <td>1</td>\n",
       "    </tr>\n",
       "  </tbody>\n",
       "</table>\n",
       "</div>"
      ],
      "text/plain": [
       "   User_ID                                        Description  \\\n",
       "0    11755  After reading mixed reviews I almost didn't bo...   \n",
       "1    33912  This motor inn is located about - city blocks ...   \n",
       "2    10143  It was our first time there and surely not our...   \n",
       "3    33114  Great hotel in an excellent location, just off...   \n",
       "4    17464  We stayed at the hotel for - weeks to get away...   \n",
       "\n",
       "   Categorial Response  \n",
       "0                    1  \n",
       "1                    1  \n",
       "2                    1  \n",
       "3                    1  \n",
       "4                    1  "
      ]
     },
     "execution_count": 15,
     "metadata": {},
     "output_type": "execute_result"
    }
   ],
   "source": [
    "Data.head()"
   ]
  },
  {
   "cell_type": "markdown",
   "metadata": {},
   "source": [
    "# Cleaning the Data"
   ]
  },
  {
   "cell_type": "code",
   "execution_count": 16,
   "metadata": {},
   "outputs": [],
   "source": [
    "from nltk.corpus import stopwords\n",
    "stopwords_list = set(stopwords.words(\"english\"))\n",
    "stopwords_list.add('.')\n",
    "stopwords_list.add(':')  \n",
    "stopwords_list.add(',') \n",
    "stopwords_list.add(';')\n",
    "stopwords_list.add('&')\n",
    "stopwords_list.add(\"'\")\n",
    "stopwords_list.add(\"-\")\n"
   ]
  },
  {
   "cell_type": "code",
   "execution_count": 17,
   "metadata": {},
   "outputs": [],
   "source": [
    "Data.Description = Data.Description.apply(lambda x: x.lower())\n",
    "Data.Description = Data.Description.apply(lambda x: x.translate(string.punctuation))\n",
    "Data.Description = Data.Description.apply(lambda x: x.translate(string.digits))"
   ]
  },
  {
   "cell_type": "code",
   "execution_count": 18,
   "metadata": {},
   "outputs": [
    {
     "data": {
      "text/html": [
       "<div>\n",
       "<style scoped>\n",
       "    .dataframe tbody tr th:only-of-type {\n",
       "        vertical-align: middle;\n",
       "    }\n",
       "\n",
       "    .dataframe tbody tr th {\n",
       "        vertical-align: top;\n",
       "    }\n",
       "\n",
       "    .dataframe thead th {\n",
       "        text-align: right;\n",
       "    }\n",
       "</style>\n",
       "<table border=\"1\" class=\"dataframe\">\n",
       "  <thead>\n",
       "    <tr style=\"text-align: right;\">\n",
       "      <th></th>\n",
       "      <th>User_ID</th>\n",
       "      <th>Description</th>\n",
       "      <th>Categorial Response</th>\n",
       "    </tr>\n",
       "  </thead>\n",
       "  <tbody>\n",
       "    <tr>\n",
       "      <th>0</th>\n",
       "      <td>11755</td>\n",
       "      <td>after reading mixed reviews i almost didn't bo...</td>\n",
       "      <td>1</td>\n",
       "    </tr>\n",
       "    <tr>\n",
       "      <th>1</th>\n",
       "      <td>33912</td>\n",
       "      <td>this motor inn is located about - city blocks ...</td>\n",
       "      <td>1</td>\n",
       "    </tr>\n",
       "    <tr>\n",
       "      <th>2</th>\n",
       "      <td>10143</td>\n",
       "      <td>it was our first time there and surely not our...</td>\n",
       "      <td>1</td>\n",
       "    </tr>\n",
       "    <tr>\n",
       "      <th>3</th>\n",
       "      <td>33114</td>\n",
       "      <td>great hotel in an excellent location, just off...</td>\n",
       "      <td>1</td>\n",
       "    </tr>\n",
       "    <tr>\n",
       "      <th>4</th>\n",
       "      <td>17464</td>\n",
       "      <td>we stayed at the hotel for - weeks to get away...</td>\n",
       "      <td>1</td>\n",
       "    </tr>\n",
       "  </tbody>\n",
       "</table>\n",
       "</div>"
      ],
      "text/plain": [
       "   User_ID                                        Description  \\\n",
       "0    11755  after reading mixed reviews i almost didn't bo...   \n",
       "1    33912  this motor inn is located about - city blocks ...   \n",
       "2    10143  it was our first time there and surely not our...   \n",
       "3    33114  great hotel in an excellent location, just off...   \n",
       "4    17464  we stayed at the hotel for - weeks to get away...   \n",
       "\n",
       "   Categorial Response  \n",
       "0                    1  \n",
       "1                    1  \n",
       "2                    1  \n",
       "3                    1  \n",
       "4                    1  "
      ]
     },
     "execution_count": 18,
     "metadata": {},
     "output_type": "execute_result"
    }
   ],
   "source": [
    "Data.head()"
   ]
  },
  {
   "cell_type": "code",
   "execution_count": 19,
   "metadata": {},
   "outputs": [],
   "source": [
    "Data['Description_without_stopwords'] = Data['Description'].apply(lambda x: ' '.join([word for word in x.split() if word not in (stopwords_list)]))\n"
   ]
  },
  {
   "cell_type": "code",
   "execution_count": 20,
   "metadata": {},
   "outputs": [],
   "source": [
    "def stemmer(text):\n",
    "        ps=nltk.porter.PorterStemmer()\n",
    "        tokens = text.split()\n",
    "        stemmed_tokens = [ps.stem(token) for token in tokens]\n",
    "        return ' '.join(stemmed_tokens)\n",
    "Data['Clean_Description'] = Data['Description_without_stopwords'].apply(stemmer)    "
   ]
  },
  {
   "cell_type": "code",
   "execution_count": 21,
   "metadata": {},
   "outputs": [],
   "source": [
    "Data=Data.drop(['Description_without_stopwords','Description'],axis=1)"
   ]
  },
  {
   "cell_type": "markdown",
   "metadata": {},
   "source": [
    "# Model Building"
   ]
  },
  {
   "cell_type": "code",
   "execution_count": null,
   "metadata": {},
   "outputs": [],
   "source": []
  },
  {
   "cell_type": "code",
   "execution_count": 23,
   "metadata": {},
   "outputs": [],
   "source": [
    "import numpy as np\n",
    "from sklearn.feature_extraction.text import CountVectorizer\n",
    "from sklearn.metrics import classification_report\n",
    "from sklearn.metrics import accuracy_score \n",
    "from sklearn.metrics import log_loss\n",
    "from sklearn.metrics import confusion_matrix\n",
    "from sklearn.model_selection import KFold\n",
    "from sklearn.feature_extraction.text import TfidfVectorizer\n",
    "from sklearn.linear_model import LogisticRegression\n",
    "from sklearn.model_selection import cross_val_predict"
   ]
  },
  {
   "cell_type": "code",
   "execution_count": 24,
   "metadata": {},
   "outputs": [],
   "source": [
    "#Function to call any Algorithm\n",
    "def evaluate_features(X, y, clf=None):\n",
    "    if clf is None:\n",
    "        clf = LogisticRegression()\n",
    "    \n",
    "    probas = cross_val_predict(clf, X, y, cv=KFold(random_state=2019,n_splits=6), \n",
    "                              n_jobs=-1, method='predict_proba')\n",
    "    pred_indices = np.argmax(probas, axis=1)\n",
    "    classes = np.unique(y)\n",
    "    preds = classes[pred_indices]\n",
    "    print('Log loss: {}'.format(log_loss(y, probas)))\n",
    "    print('Accuracy: {}'.format(accuracy_score(y, preds)))\n",
    "    print('Classification report',classification_report(y,preds))\n",
    "    print('Confusion Matrix  ', confusion_matrix(y,preds))"
   ]
  },
  {
   "cell_type": "code",
   "execution_count": 25,
   "metadata": {},
   "outputs": [
    {
     "data": {
      "text/plain": [
       "45000"
      ]
     },
     "execution_count": 25,
     "metadata": {},
     "output_type": "execute_result"
    }
   ],
   "source": [
    "count_vectorizer = CountVectorizer(max_features=45000,ngram_range=(1,2))  \n",
    "\n",
    "bag_of_words = count_vectorizer.fit_transform(Data[\"Clean_Description\"])\n",
    "    \n",
    "len(count_vectorizer.get_feature_names())"
   ]
  },
  {
   "cell_type": "code",
   "execution_count": 29,
   "metadata": {},
   "outputs": [
    {
     "name": "stdout",
     "output_type": "stream",
     "text": [
      "Log loss: 0.3989687709405552\n",
      "Accuracy: 0.8747514251624022\n",
      "Classification report               precision    recall  f1-score   support\n",
      "\n",
      "           0       0.83      0.77      0.80      9605\n",
      "           1       0.89      0.92      0.91     20567\n",
      "\n",
      "   micro avg       0.87      0.87      0.87     30172\n",
      "   macro avg       0.86      0.85      0.85     30172\n",
      "weighted avg       0.87      0.87      0.87     30172\n",
      "\n",
      "Confusion Matrix   [[ 7371  2234]\n",
      " [ 1545 19022]]\n"
     ]
    }
   ],
   "source": [
    "evaluate_features(bag_of_words, Data['Categorial Response'])"
   ]
  },
  {
   "cell_type": "code",
   "execution_count": null,
   "metadata": {},
   "outputs": [],
   "source": [
    "#evaluate_features(bag_of_words, Data['Categorial Response'],SVC(kernel='linear',probability=True,random_state=2019))"
   ]
  },
  {
   "cell_type": "code",
   "execution_count": 30,
   "metadata": {},
   "outputs": [
    {
     "data": {
      "text/plain": [
       "45000"
      ]
     },
     "execution_count": 30,
     "metadata": {},
     "output_type": "execute_result"
    }
   ],
   "source": [
    "tfidf_vectorizer = TfidfVectorizer(max_features=45000,ngram_range=(1,2),analyzer='word')    \n",
    "\n",
    "tfidf = tfidf_vectorizer.fit_transform(Data['Clean_Description'])\n",
    "\n",
    "len(count_vectorizer.get_feature_names())"
   ]
  },
  {
   "cell_type": "code",
   "execution_count": 31,
   "metadata": {},
   "outputs": [
    {
     "name": "stdout",
     "output_type": "stream",
     "text": [
      "Log loss: 0.3038463562318182\n",
      "Accuracy: 0.8841309823677582\n",
      "Classification report               precision    recall  f1-score   support\n",
      "\n",
      "           0       0.88      0.74      0.80      9605\n",
      "           1       0.89      0.95      0.92     20567\n",
      "\n",
      "   micro avg       0.88      0.88      0.88     30172\n",
      "   macro avg       0.88      0.85      0.86     30172\n",
      "weighted avg       0.88      0.88      0.88     30172\n",
      "\n",
      "Confusion Matrix   [[ 7126  2479]\n",
      " [ 1017 19550]]\n"
     ]
    }
   ],
   "source": [
    "evaluate_features(tfidf, Data['Categorial Response'])"
   ]
  },
  {
   "cell_type": "markdown",
   "metadata": {},
   "source": [
    "# We can see that decreasing features is not affecting much on Accuracy Score We can decrease our Features more to Speed Up the Process"
   ]
  },
  {
   "cell_type": "code",
   "execution_count": 36,
   "metadata": {},
   "outputs": [],
   "source": [
    "from sklearn.naive_bayes import MultinomialNB"
   ]
  },
  {
   "cell_type": "code",
   "execution_count": 37,
   "metadata": {},
   "outputs": [
    {
     "name": "stdout",
     "output_type": "stream",
     "text": [
      "Log loss: 0.3253999225550261\n",
      "Accuracy: 0.8584117725043087\n",
      "Classification report               precision    recall  f1-score   support\n",
      "\n",
      "           0       0.91      0.62      0.73      9605\n",
      "           1       0.84      0.97      0.90     20567\n",
      "\n",
      "   micro avg       0.86      0.86      0.86     30172\n",
      "   macro avg       0.88      0.79      0.82     30172\n",
      "weighted avg       0.87      0.86      0.85     30172\n",
      "\n",
      "Confusion Matrix   [[ 5912  3693]\n",
      " [  579 19988]]\n"
     ]
    }
   ],
   "source": [
    "evaluate_features(tfidf,Data['Categorial Response'],MultinomialNB())"
   ]
  },
  {
   "cell_type": "code",
   "execution_count": 38,
   "metadata": {},
   "outputs": [],
   "source": [
    "#We can also use Xgboost but it will increase our computational cost and will not give much difference in Accuracy.\n",
    "#We can also do Topic Modeling."
   ]
  },
  {
   "cell_type": "markdown",
   "metadata": {},
   "source": [
    "# Test Data"
   ]
  },
  {
   "cell_type": "code",
   "execution_count": 26,
   "metadata": {},
   "outputs": [
    {
     "data": {
      "text/html": [
       "<div>\n",
       "<style scoped>\n",
       "    .dataframe tbody tr th:only-of-type {\n",
       "        vertical-align: middle;\n",
       "    }\n",
       "\n",
       "    .dataframe tbody tr th {\n",
       "        vertical-align: top;\n",
       "    }\n",
       "\n",
       "    .dataframe thead th {\n",
       "        text-align: right;\n",
       "    }\n",
       "</style>\n",
       "<table border=\"1\" class=\"dataframe\">\n",
       "  <thead>\n",
       "    <tr style=\"text-align: right;\">\n",
       "      <th></th>\n",
       "      <th>User_ID</th>\n",
       "      <th>Description</th>\n",
       "      <th>Browser_Used</th>\n",
       "      <th>Device_Used</th>\n",
       "    </tr>\n",
       "  </thead>\n",
       "  <tbody>\n",
       "    <tr>\n",
       "      <th>0</th>\n",
       "      <td>9602</td>\n",
       "      <td>A friend and I stayed in this hotel when we we...</td>\n",
       "      <td>Edge</td>\n",
       "      <td>Desktop</td>\n",
       "    </tr>\n",
       "    <tr>\n",
       "      <th>1</th>\n",
       "      <td>8749</td>\n",
       "      <td>I enjoy staying here when I have early flights...</td>\n",
       "      <td>Google Chrome</td>\n",
       "      <td>Mobile</td>\n",
       "    </tr>\n",
       "    <tr>\n",
       "      <th>2</th>\n",
       "      <td>15500</td>\n",
       "      <td>I stopped off in Seattle during a train tour o...</td>\n",
       "      <td>Chrome</td>\n",
       "      <td>Mobile</td>\n",
       "    </tr>\n",
       "    <tr>\n",
       "      <th>3</th>\n",
       "      <td>5495</td>\n",
       "      <td>I have stayed at this hotel - or - times now f...</td>\n",
       "      <td>Mozilla Firefox</td>\n",
       "      <td>Desktop</td>\n",
       "    </tr>\n",
       "    <tr>\n",
       "      <th>4</th>\n",
       "      <td>18570</td>\n",
       "      <td>Excellent location with hop on hop off city tr...</td>\n",
       "      <td>Edge</td>\n",
       "      <td>Mobile</td>\n",
       "    </tr>\n",
       "  </tbody>\n",
       "</table>\n",
       "</div>"
      ],
      "text/plain": [
       "   User_ID                                        Description  \\\n",
       "0     9602  A friend and I stayed in this hotel when we we...   \n",
       "1     8749  I enjoy staying here when I have early flights...   \n",
       "2    15500  I stopped off in Seattle during a train tour o...   \n",
       "3     5495  I have stayed at this hotel - or - times now f...   \n",
       "4    18570  Excellent location with hop on hop off city tr...   \n",
       "\n",
       "      Browser_Used Device_Used  \n",
       "0             Edge     Desktop  \n",
       "1    Google Chrome      Mobile  \n",
       "2           Chrome      Mobile  \n",
       "3  Mozilla Firefox     Desktop  \n",
       "4             Edge      Mobile  "
      ]
     },
     "execution_count": 26,
     "metadata": {},
     "output_type": "execute_result"
    }
   ],
   "source": [
    "DataTest=pd.read_csv(\"test.csv\",sep=\"~\")\n",
    "DataTest.head()"
   ]
  },
  {
   "cell_type": "code",
   "execution_count": 27,
   "metadata": {},
   "outputs": [],
   "source": [
    "DataTest.Description = DataTest.Description.apply(lambda x: x.lower())\n",
    "DataTest.Description = DataTest.Description.apply(lambda x: x.translate(string.punctuation))\n",
    "DataTest.Description = DataTest.Description.apply(lambda x: x.translate(string.digits))"
   ]
  },
  {
   "cell_type": "code",
   "execution_count": 28,
   "metadata": {},
   "outputs": [],
   "source": [
    "DataTest['Description_without_stopwords'] = DataTest['Description'].apply(lambda x: ' '.join([word for word in x.split() if word not in (stopwords_list)]))\n"
   ]
  },
  {
   "cell_type": "code",
   "execution_count": 29,
   "metadata": {},
   "outputs": [],
   "source": [
    "def stemmer(text):\n",
    "        ps=nltk.porter.PorterStemmer()\n",
    "        tokens = text.split()\n",
    "        stemmed_tokens = [ps.stem(token) for token in tokens]\n",
    "        return ' '.join(stemmed_tokens)\n",
    "DataTest['Clean_Description'] = DataTest['Description_without_stopwords'].apply(stemmer)    "
   ]
  },
  {
   "cell_type": "code",
   "execution_count": 30,
   "metadata": {},
   "outputs": [],
   "source": [
    "DataTest=DataTest.drop(['Description_without_stopwords','Description'],axis=1)"
   ]
  },
  {
   "cell_type": "code",
   "execution_count": 31,
   "metadata": {},
   "outputs": [],
   "source": [
    "X=Data[\"Clean_Description\"]\n",
    "y=Data.drop(['Clean_Description','User_ID'],axis=1)"
   ]
  },
  {
   "cell_type": "code",
   "execution_count": 32,
   "metadata": {},
   "outputs": [
    {
     "data": {
      "text/html": [
       "<div>\n",
       "<style scoped>\n",
       "    .dataframe tbody tr th:only-of-type {\n",
       "        vertical-align: middle;\n",
       "    }\n",
       "\n",
       "    .dataframe tbody tr th {\n",
       "        vertical-align: top;\n",
       "    }\n",
       "\n",
       "    .dataframe thead th {\n",
       "        text-align: right;\n",
       "    }\n",
       "</style>\n",
       "<table border=\"1\" class=\"dataframe\">\n",
       "  <thead>\n",
       "    <tr style=\"text-align: right;\">\n",
       "      <th></th>\n",
       "      <th>Categorial Response</th>\n",
       "    </tr>\n",
       "  </thead>\n",
       "  <tbody>\n",
       "    <tr>\n",
       "      <th>0</th>\n",
       "      <td>1</td>\n",
       "    </tr>\n",
       "    <tr>\n",
       "      <th>1</th>\n",
       "      <td>1</td>\n",
       "    </tr>\n",
       "    <tr>\n",
       "      <th>2</th>\n",
       "      <td>1</td>\n",
       "    </tr>\n",
       "    <tr>\n",
       "      <th>3</th>\n",
       "      <td>1</td>\n",
       "    </tr>\n",
       "    <tr>\n",
       "      <th>4</th>\n",
       "      <td>1</td>\n",
       "    </tr>\n",
       "  </tbody>\n",
       "</table>\n",
       "</div>"
      ],
      "text/plain": [
       "   Categorial Response\n",
       "0                    1\n",
       "1                    1\n",
       "2                    1\n",
       "3                    1\n",
       "4                    1"
      ]
     },
     "execution_count": 32,
     "metadata": {},
     "output_type": "execute_result"
    }
   ],
   "source": [
    "y.head()"
   ]
  },
  {
   "cell_type": "code",
   "execution_count": 33,
   "metadata": {},
   "outputs": [],
   "source": [
    "from sklearn.model_selection import KFold"
   ]
  },
  {
   "cell_type": "code",
   "execution_count": 34,
   "metadata": {},
   "outputs": [
    {
     "name": "stdout",
     "output_type": "stream",
     "text": [
      "Train [ 6035  6036  6037 ... 30169 30170 30171] Validation [   0    1    2 ... 6032 6033 6034]\n",
      "Train [    0     1     2 ... 30169 30170 30171] Validation [ 6035  6036  6037 ... 12067 12068 12069]\n",
      "Train [    0     1     2 ... 30169 30170 30171] Validation [12070 12071 12072 ... 18101 18102 18103]\n",
      "Train [    0     1     2 ... 30169 30170 30171] Validation [18104 18105 18106 ... 24135 24136 24137]\n",
      "Train [    0     1     2 ... 24135 24136 24137] Validation [24138 24139 24140 ... 30169 30170 30171]\n"
     ]
    }
   ],
   "source": [
    "kf=KFold(n_splits=5,shuffle=False,random_state=55)\n",
    "for train_index,test_index in kf.split(X):\n",
    "    print(\"Train\",train_index,\"Validation\",test_index)\n",
    "    X_train,X_test=X.iloc[train_index],X.iloc[test_index]\n",
    "    y_train,y_test=y.iloc[train_index],y.iloc[test_index]"
   ]
  },
  {
   "cell_type": "code",
   "execution_count": 35,
   "metadata": {},
   "outputs": [
    {
     "name": "stdout",
     "output_type": "stream",
     "text": [
      "(24138, 818994)\n"
     ]
    }
   ],
   "source": [
    "basictf= TfidfVectorizer(use_idf=True, min_df=0.0, max_df=1.0, ngram_range=(1,2),sublinear_tf=True)\n",
    "basicTrain=basictf.fit_transform(X_train)\n",
    "print(basicTrain.shape)"
   ]
  },
  {
   "cell_type": "code",
   "execution_count": 36,
   "metadata": {},
   "outputs": [
    {
     "name": "stderr",
     "output_type": "stream",
     "text": [
      "C:\\Users\\sagar\\AppData\\Local\\Continuum\\anaconda3\\lib\\site-packages\\sklearn\\linear_model\\logistic.py:433: FutureWarning: Default solver will be changed to 'lbfgs' in 0.22. Specify a solver to silence this warning.\n",
      "  FutureWarning)\n",
      "C:\\Users\\sagar\\AppData\\Local\\Continuum\\anaconda3\\lib\\site-packages\\sklearn\\utils\\validation.py:761: DataConversionWarning: A column-vector y was passed when a 1d array was expected. Please change the shape of y to (n_samples, ), for example using ravel().\n",
      "  y = column_or_1d(y, warn=True)\n"
     ]
    }
   ],
   "source": [
    "basicModel=LogisticRegression()\n",
    "basicModel = basicModel.fit(basicTrain, y_train)\n",
    "basicTest = basictf.transform(X_test)\n",
    "y_pred = basicModel.predict(basicTest)"
   ]
  },
  {
   "cell_type": "code",
   "execution_count": 37,
   "metadata": {},
   "outputs": [
    {
     "name": "stdout",
     "output_type": "stream",
     "text": [
      "[[1373  526]\n",
      " [ 202 3933]]\n",
      "              precision    recall  f1-score   support\n",
      "\n",
      "           0       0.87      0.72      0.79      1899\n",
      "           1       0.88      0.95      0.92      4135\n",
      "\n",
      "   micro avg       0.88      0.88      0.88      6034\n",
      "   macro avg       0.88      0.84      0.85      6034\n",
      "weighted avg       0.88      0.88      0.88      6034\n",
      "\n",
      "0.8793503480278422\n"
     ]
    }
   ],
   "source": [
    "print(confusion_matrix(y_test, y_pred))\n",
    "print (classification_report(y_test, y_pred))\n",
    "print (accuracy_score(y_test, y_pred))"
   ]
  },
  {
   "cell_type": "code",
   "execution_count": 38,
   "metadata": {},
   "outputs": [
    {
     "data": {
      "text/html": [
       "<div>\n",
       "<style scoped>\n",
       "    .dataframe tbody tr th:only-of-type {\n",
       "        vertical-align: middle;\n",
       "    }\n",
       "\n",
       "    .dataframe tbody tr th {\n",
       "        vertical-align: top;\n",
       "    }\n",
       "\n",
       "    .dataframe thead th {\n",
       "        text-align: right;\n",
       "    }\n",
       "</style>\n",
       "<table border=\"1\" class=\"dataframe\">\n",
       "  <thead>\n",
       "    <tr style=\"text-align: right;\">\n",
       "      <th></th>\n",
       "      <th>User_ID</th>\n",
       "      <th>Browser_Used</th>\n",
       "      <th>Device_Used</th>\n",
       "      <th>Clean_Description</th>\n",
       "    </tr>\n",
       "  </thead>\n",
       "  <tbody>\n",
       "    <tr>\n",
       "      <th>0</th>\n",
       "      <td>9602</td>\n",
       "      <td>Edge</td>\n",
       "      <td>Desktop</td>\n",
       "      <td>friend stay hotel jacksonvil concert. alway ag...</td>\n",
       "    </tr>\n",
       "    <tr>\n",
       "      <th>1</th>\n",
       "      <td>8749</td>\n",
       "      <td>Google Chrome</td>\n",
       "      <td>Mobile</td>\n",
       "      <td>enjoy stay earli flights. servic good, clean, ...</td>\n",
       "    </tr>\n",
       "    <tr>\n",
       "      <th>2</th>\n",
       "      <td>15500</td>\n",
       "      <td>Chrome</td>\n",
       "      <td>Mobile</td>\n",
       "      <td>stop seattl train tour west great experience. ...</td>\n",
       "    </tr>\n",
       "    <tr>\n",
       "      <th>3</th>\n",
       "      <td>5495</td>\n",
       "      <td>Mozilla Firefox</td>\n",
       "      <td>Desktop</td>\n",
       "      <td>stay hotel time busi travel plan weeks. alway ...</td>\n",
       "    </tr>\n",
       "    <tr>\n",
       "      <th>4</th>\n",
       "      <td>18570</td>\n",
       "      <td>Edge</td>\n",
       "      <td>Mobile</td>\n",
       "      <td>excel locat hop hop citi transport stop outsid...</td>\n",
       "    </tr>\n",
       "  </tbody>\n",
       "</table>\n",
       "</div>"
      ],
      "text/plain": [
       "   User_ID     Browser_Used Device_Used  \\\n",
       "0     9602             Edge     Desktop   \n",
       "1     8749    Google Chrome      Mobile   \n",
       "2    15500           Chrome      Mobile   \n",
       "3     5495  Mozilla Firefox     Desktop   \n",
       "4    18570             Edge      Mobile   \n",
       "\n",
       "                                   Clean_Description  \n",
       "0  friend stay hotel jacksonvil concert. alway ag...  \n",
       "1  enjoy stay earli flights. servic good, clean, ...  \n",
       "2  stop seattl train tour west great experience. ...  \n",
       "3  stay hotel time busi travel plan weeks. alway ...  \n",
       "4  excel locat hop hop citi transport stop outsid...  "
      ]
     },
     "execution_count": 38,
     "metadata": {},
     "output_type": "execute_result"
    }
   ],
   "source": [
    "DataTest.head()"
   ]
  },
  {
   "cell_type": "code",
   "execution_count": 39,
   "metadata": {},
   "outputs": [],
   "source": [
    "basicTest = basictf.transform(DataTest['Clean_Description'])\n",
    "y_pred = basicModel.predict(basicTest)"
   ]
  },
  {
   "cell_type": "code",
   "execution_count": 40,
   "metadata": {},
   "outputs": [],
   "source": [
    "DataTest[\"Predicted_Values\"]=y_pred"
   ]
  },
  {
   "cell_type": "code",
   "execution_count": null,
   "metadata": {},
   "outputs": [],
   "source": [
    "DataTest['Predicted_Values'] = DataTest['Predicted_Values'].apply(lambda x:'Bad' if x==0 else 'Good')"
   ]
  },
  {
   "cell_type": "code",
   "execution_count": 41,
   "metadata": {},
   "outputs": [],
   "source": [
    "DataTest=DataTest.drop(['Browser_Used','Device_Used','Clean_Description'],axis=1)"
   ]
  },
  {
   "cell_type": "code",
   "execution_count": 42,
   "metadata": {},
   "outputs": [],
   "source": [
    "DataTest.to_csv(\"Final_Submission.csv\",sep=\"~\",index=False)"
   ]
  },
  {
   "cell_type": "code",
   "execution_count": null,
   "metadata": {},
   "outputs": [],
   "source": []
  },
  {
   "cell_type": "code",
   "execution_count": null,
   "metadata": {},
   "outputs": [],
   "source": []
  }
 ],
 "metadata": {
  "kernelspec": {
   "display_name": "Python 3",
   "language": "python",
   "name": "python3"
  },
  "language_info": {
   "codemirror_mode": {
    "name": "ipython",
    "version": 3
   },
   "file_extension": ".py",
   "mimetype": "text/x-python",
   "name": "python",
   "nbconvert_exporter": "python",
   "pygments_lexer": "ipython3",
   "version": "3.6.5"
  }
 },
 "nbformat": 4,
 "nbformat_minor": 2
}
