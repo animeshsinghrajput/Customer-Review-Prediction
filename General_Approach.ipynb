{
 "cells": [
  {
   "cell_type": "code",
   "execution_count": 1,
   "metadata": {},
   "outputs": [],
   "source": [
    "# Import the necessary libraries, modules\n",
    "import os \n",
    "import re  \n",
    "import pandas as pd # Pandas library for reading '.csv' files as dataframes\n",
    "import numpy as np  # Numpy library for creating and modifying arrays.\n",
    "import matplotlib.pyplot as plt\n",
    "%matplotlib inline\n",
    "import seaborn as sns\n",
    "import sklearn\n",
    "from sklearn.metrics import accuracy_score\n",
    "import nltk"
   ]
  },
  {
   "cell_type": "code",
   "execution_count": 2,
   "metadata": {},
   "outputs": [
    {
     "name": "stdout",
     "output_type": "stream",
     "text": [
      "C:\\Users\\anime\\Ant_Works\n"
     ]
    }
   ],
   "source": [
    "#os.chdir()\n",
    "print(os.getcwd())"
   ]
  },
  {
   "cell_type": "code",
   "execution_count": 3,
   "metadata": {},
   "outputs": [],
   "source": [
    "train_data=pd.read_csv(\"train.csv\",sep=\"~\", encoding='latin-1')\n",
    "test_data=pd.read_csv(\"test.csv\",sep=\"~\",encoding='latin-1')"
   ]
  },
  {
   "cell_type": "code",
   "execution_count": 4,
   "metadata": {},
   "outputs": [
    {
     "data": {
      "text/html": [
       "<div>\n",
       "<style scoped>\n",
       "    .dataframe tbody tr th:only-of-type {\n",
       "        vertical-align: middle;\n",
       "    }\n",
       "\n",
       "    .dataframe tbody tr th {\n",
       "        vertical-align: top;\n",
       "    }\n",
       "\n",
       "    .dataframe thead th {\n",
       "        text-align: right;\n",
       "    }\n",
       "</style>\n",
       "<table border=\"1\" class=\"dataframe\">\n",
       "  <thead>\n",
       "    <tr style=\"text-align: right;\">\n",
       "      <th></th>\n",
       "      <th>User_ID</th>\n",
       "      <th>Description</th>\n",
       "      <th>Browser_Used</th>\n",
       "      <th>Device_Used</th>\n",
       "      <th>Is_Response</th>\n",
       "    </tr>\n",
       "  </thead>\n",
       "  <tbody>\n",
       "    <tr>\n",
       "      <th>0</th>\n",
       "      <td>11755</td>\n",
       "      <td>After reading mixed reviews I almost didn't bo...</td>\n",
       "      <td>Google Chrome</td>\n",
       "      <td>Desktop</td>\n",
       "      <td>Good</td>\n",
       "    </tr>\n",
       "    <tr>\n",
       "      <th>1</th>\n",
       "      <td>33912</td>\n",
       "      <td>This motor inn is located about - city blocks ...</td>\n",
       "      <td>Firefox</td>\n",
       "      <td>Tablet</td>\n",
       "      <td>Good</td>\n",
       "    </tr>\n",
       "    <tr>\n",
       "      <th>2</th>\n",
       "      <td>10143</td>\n",
       "      <td>It was our first time there and surely not our...</td>\n",
       "      <td>Google Chrome</td>\n",
       "      <td>Mobile</td>\n",
       "      <td>Good</td>\n",
       "    </tr>\n",
       "    <tr>\n",
       "      <th>3</th>\n",
       "      <td>33114</td>\n",
       "      <td>Great hotel in an excellent location, just off...</td>\n",
       "      <td>Mozilla</td>\n",
       "      <td>Desktop</td>\n",
       "      <td>Good</td>\n",
       "    </tr>\n",
       "    <tr>\n",
       "      <th>4</th>\n",
       "      <td>17464</td>\n",
       "      <td>We stayed at the hotel for - weeks to get away...</td>\n",
       "      <td>Google Chrome</td>\n",
       "      <td>Desktop</td>\n",
       "      <td>Good</td>\n",
       "    </tr>\n",
       "  </tbody>\n",
       "</table>\n",
       "</div>"
      ],
      "text/plain": [
       "   User_ID                                        Description   Browser_Used  \\\n",
       "0    11755  After reading mixed reviews I almost didn't bo...  Google Chrome   \n",
       "1    33912  This motor inn is located about - city blocks ...        Firefox   \n",
       "2    10143  It was our first time there and surely not our...  Google Chrome   \n",
       "3    33114  Great hotel in an excellent location, just off...        Mozilla   \n",
       "4    17464  We stayed at the hotel for - weeks to get away...  Google Chrome   \n",
       "\n",
       "  Device_Used Is_Response  \n",
       "0     Desktop        Good  \n",
       "1      Tablet        Good  \n",
       "2      Mobile        Good  \n",
       "3     Desktop        Good  \n",
       "4     Desktop        Good  "
      ]
     },
     "execution_count": 4,
     "metadata": {},
     "output_type": "execute_result"
    }
   ],
   "source": [
    "train_data.head()"
   ]
  },
  {
   "cell_type": "code",
   "execution_count": 5,
   "metadata": {},
   "outputs": [
    {
     "data": {
      "text/plain": [
       "(30172, 5)"
      ]
     },
     "execution_count": 5,
     "metadata": {},
     "output_type": "execute_result"
    }
   ],
   "source": [
    "train_data.shape"
   ]
  },
  {
   "cell_type": "code",
   "execution_count": 6,
   "metadata": {},
   "outputs": [
    {
     "data": {
      "text/plain": [
       "User_ID          int64\n",
       "Description     object\n",
       "Browser_Used    object\n",
       "Device_Used     object\n",
       "Is_Response     object\n",
       "dtype: object"
      ]
     },
     "execution_count": 6,
     "metadata": {},
     "output_type": "execute_result"
    }
   ],
   "source": [
    "train_data.dtypes"
   ]
  },
  {
   "cell_type": "code",
   "execution_count": 7,
   "metadata": {},
   "outputs": [
    {
     "data": {
      "text/plain": [
       "Index(['User_ID', 'Description', 'Browser_Used', 'Device_Used', 'Is_Response'], dtype='object')"
      ]
     },
     "execution_count": 7,
     "metadata": {},
     "output_type": "execute_result"
    }
   ],
   "source": [
    "train_data.columns"
   ]
  },
  {
   "cell_type": "code",
   "execution_count": 8,
   "metadata": {},
   "outputs": [
    {
     "data": {
      "text/plain": [
       "User_ID         0\n",
       "Description     0\n",
       "Browser_Used    0\n",
       "Device_Used     0\n",
       "Is_Response     0\n",
       "dtype: int64"
      ]
     },
     "execution_count": 8,
     "metadata": {},
     "output_type": "execute_result"
    }
   ],
   "source": [
    "train_data.isnull().sum()"
   ]
  },
  {
   "cell_type": "code",
   "execution_count": 9,
   "metadata": {},
   "outputs": [
    {
     "data": {
      "text/html": [
       "<div>\n",
       "<style scoped>\n",
       "    .dataframe tbody tr th:only-of-type {\n",
       "        vertical-align: middle;\n",
       "    }\n",
       "\n",
       "    .dataframe tbody tr th {\n",
       "        vertical-align: top;\n",
       "    }\n",
       "\n",
       "    .dataframe thead th {\n",
       "        text-align: right;\n",
       "    }\n",
       "</style>\n",
       "<table border=\"1\" class=\"dataframe\">\n",
       "  <thead>\n",
       "    <tr style=\"text-align: right;\">\n",
       "      <th></th>\n",
       "      <th>User_ID</th>\n",
       "      <th>Description</th>\n",
       "      <th>Browser_Used</th>\n",
       "      <th>Device_Used</th>\n",
       "      <th>Is_Response</th>\n",
       "      <th>Review_length</th>\n",
       "    </tr>\n",
       "  </thead>\n",
       "  <tbody>\n",
       "    <tr>\n",
       "      <th>0</th>\n",
       "      <td>11755</td>\n",
       "      <td>After reading mixed reviews I almost didn't bo...</td>\n",
       "      <td>Google Chrome</td>\n",
       "      <td>Desktop</td>\n",
       "      <td>Good</td>\n",
       "      <td>1230</td>\n",
       "    </tr>\n",
       "    <tr>\n",
       "      <th>1</th>\n",
       "      <td>33912</td>\n",
       "      <td>This motor inn is located about - city blocks ...</td>\n",
       "      <td>Firefox</td>\n",
       "      <td>Tablet</td>\n",
       "      <td>Good</td>\n",
       "      <td>615</td>\n",
       "    </tr>\n",
       "    <tr>\n",
       "      <th>2</th>\n",
       "      <td>10143</td>\n",
       "      <td>It was our first time there and surely not our...</td>\n",
       "      <td>Google Chrome</td>\n",
       "      <td>Mobile</td>\n",
       "      <td>Good</td>\n",
       "      <td>505</td>\n",
       "    </tr>\n",
       "    <tr>\n",
       "      <th>3</th>\n",
       "      <td>33114</td>\n",
       "      <td>Great hotel in an excellent location, just off...</td>\n",
       "      <td>Mozilla</td>\n",
       "      <td>Desktop</td>\n",
       "      <td>Good</td>\n",
       "      <td>424</td>\n",
       "    </tr>\n",
       "    <tr>\n",
       "      <th>4</th>\n",
       "      <td>17464</td>\n",
       "      <td>We stayed at the hotel for - weeks to get away...</td>\n",
       "      <td>Google Chrome</td>\n",
       "      <td>Desktop</td>\n",
       "      <td>Good</td>\n",
       "      <td>654</td>\n",
       "    </tr>\n",
       "  </tbody>\n",
       "</table>\n",
       "</div>"
      ],
      "text/plain": [
       "   User_ID                                        Description   Browser_Used  \\\n",
       "0    11755  After reading mixed reviews I almost didn't bo...  Google Chrome   \n",
       "1    33912  This motor inn is located about - city blocks ...        Firefox   \n",
       "2    10143  It was our first time there and surely not our...  Google Chrome   \n",
       "3    33114  Great hotel in an excellent location, just off...        Mozilla   \n",
       "4    17464  We stayed at the hotel for - weeks to get away...  Google Chrome   \n",
       "\n",
       "  Device_Used Is_Response  Review_length  \n",
       "0     Desktop        Good           1230  \n",
       "1      Tablet        Good            615  \n",
       "2      Mobile        Good            505  \n",
       "3     Desktop        Good            424  \n",
       "4     Desktop        Good            654  "
      ]
     },
     "execution_count": 9,
     "metadata": {},
     "output_type": "execute_result"
    }
   ],
   "source": [
    "train_data['Review_length'] = train_data['Description'].apply(len)\n",
    "train_data.head()"
   ]
  },
  {
   "cell_type": "code",
   "execution_count": 10,
   "metadata": {},
   "outputs": [
    {
     "data": {
      "text/html": [
       "<div>\n",
       "<style scoped>\n",
       "    .dataframe tbody tr th:only-of-type {\n",
       "        vertical-align: middle;\n",
       "    }\n",
       "\n",
       "    .dataframe tbody tr th {\n",
       "        vertical-align: top;\n",
       "    }\n",
       "\n",
       "    .dataframe thead th {\n",
       "        text-align: right;\n",
       "    }\n",
       "</style>\n",
       "<table border=\"1\" class=\"dataframe\">\n",
       "  <thead>\n",
       "    <tr style=\"text-align: right;\">\n",
       "      <th></th>\n",
       "      <th>User_ID</th>\n",
       "      <th>Description</th>\n",
       "      <th>Browser_Used</th>\n",
       "      <th>Device_Used</th>\n",
       "    </tr>\n",
       "  </thead>\n",
       "  <tbody>\n",
       "    <tr>\n",
       "      <th>0</th>\n",
       "      <td>9602</td>\n",
       "      <td>A friend and I stayed in this hotel when we we...</td>\n",
       "      <td>Edge</td>\n",
       "      <td>Desktop</td>\n",
       "    </tr>\n",
       "    <tr>\n",
       "      <th>1</th>\n",
       "      <td>8749</td>\n",
       "      <td>I enjoy staying here when I have early flights...</td>\n",
       "      <td>Google Chrome</td>\n",
       "      <td>Mobile</td>\n",
       "    </tr>\n",
       "    <tr>\n",
       "      <th>2</th>\n",
       "      <td>15500</td>\n",
       "      <td>I stopped off in Seattle during a train tour o...</td>\n",
       "      <td>Chrome</td>\n",
       "      <td>Mobile</td>\n",
       "    </tr>\n",
       "    <tr>\n",
       "      <th>3</th>\n",
       "      <td>5495</td>\n",
       "      <td>I have stayed at this hotel - or - times now f...</td>\n",
       "      <td>Mozilla Firefox</td>\n",
       "      <td>Desktop</td>\n",
       "    </tr>\n",
       "    <tr>\n",
       "      <th>4</th>\n",
       "      <td>18570</td>\n",
       "      <td>Excellent location with hop on hop off city tr...</td>\n",
       "      <td>Edge</td>\n",
       "      <td>Mobile</td>\n",
       "    </tr>\n",
       "  </tbody>\n",
       "</table>\n",
       "</div>"
      ],
      "text/plain": [
       "   User_ID                                        Description  \\\n",
       "0     9602  A friend and I stayed in this hotel when we we...   \n",
       "1     8749  I enjoy staying here when I have early flights...   \n",
       "2    15500  I stopped off in Seattle during a train tour o...   \n",
       "3     5495  I have stayed at this hotel - or - times now f...   \n",
       "4    18570  Excellent location with hop on hop off city tr...   \n",
       "\n",
       "      Browser_Used Device_Used  \n",
       "0             Edge     Desktop  \n",
       "1    Google Chrome      Mobile  \n",
       "2           Chrome      Mobile  \n",
       "3  Mozilla Firefox     Desktop  \n",
       "4             Edge      Mobile  "
      ]
     },
     "execution_count": 10,
     "metadata": {},
     "output_type": "execute_result"
    }
   ],
   "source": [
    "test_data.head()"
   ]
  },
  {
   "cell_type": "code",
   "execution_count": 11,
   "metadata": {},
   "outputs": [
    {
     "data": {
      "text/plain": [
       "(8760, 4)"
      ]
     },
     "execution_count": 11,
     "metadata": {},
     "output_type": "execute_result"
    }
   ],
   "source": [
    "test_data.shape"
   ]
  },
  {
   "cell_type": "code",
   "execution_count": 12,
   "metadata": {},
   "outputs": [
    {
     "data": {
      "text/plain": [
       "User_ID          int64\n",
       "Description     object\n",
       "Browser_Used    object\n",
       "Device_Used     object\n",
       "dtype: object"
      ]
     },
     "execution_count": 12,
     "metadata": {},
     "output_type": "execute_result"
    }
   ],
   "source": [
    "test_data.dtypes"
   ]
  },
  {
   "cell_type": "code",
   "execution_count": 13,
   "metadata": {},
   "outputs": [
    {
     "data": {
      "text/plain": [
       "Index(['User_ID', 'Description', 'Browser_Used', 'Device_Used'], dtype='object')"
      ]
     },
     "execution_count": 13,
     "metadata": {},
     "output_type": "execute_result"
    }
   ],
   "source": [
    "test_data.columns"
   ]
  },
  {
   "cell_type": "code",
   "execution_count": 14,
   "metadata": {},
   "outputs": [
    {
     "data": {
      "text/plain": [
       "User_ID         0\n",
       "Description     0\n",
       "Browser_Used    0\n",
       "Device_Used     0\n",
       "dtype: int64"
      ]
     },
     "execution_count": 14,
     "metadata": {},
     "output_type": "execute_result"
    }
   ],
   "source": [
    "test_data.isnull().sum()"
   ]
  },
  {
   "cell_type": "code",
   "execution_count": 15,
   "metadata": {},
   "outputs": [
    {
     "data": {
      "text/html": [
       "<div>\n",
       "<style scoped>\n",
       "    .dataframe tbody tr th:only-of-type {\n",
       "        vertical-align: middle;\n",
       "    }\n",
       "\n",
       "    .dataframe tbody tr th {\n",
       "        vertical-align: top;\n",
       "    }\n",
       "\n",
       "    .dataframe thead th {\n",
       "        text-align: right;\n",
       "    }\n",
       "</style>\n",
       "<table border=\"1\" class=\"dataframe\">\n",
       "  <thead>\n",
       "    <tr style=\"text-align: right;\">\n",
       "      <th></th>\n",
       "      <th>User_ID</th>\n",
       "      <th>Description</th>\n",
       "      <th>Browser_Used</th>\n",
       "      <th>Device_Used</th>\n",
       "      <th>Review_length</th>\n",
       "    </tr>\n",
       "  </thead>\n",
       "  <tbody>\n",
       "    <tr>\n",
       "      <th>0</th>\n",
       "      <td>9602</td>\n",
       "      <td>A friend and I stayed in this hotel when we we...</td>\n",
       "      <td>Edge</td>\n",
       "      <td>Desktop</td>\n",
       "      <td>3008</td>\n",
       "    </tr>\n",
       "    <tr>\n",
       "      <th>1</th>\n",
       "      <td>8749</td>\n",
       "      <td>I enjoy staying here when I have early flights...</td>\n",
       "      <td>Google Chrome</td>\n",
       "      <td>Mobile</td>\n",
       "      <td>535</td>\n",
       "    </tr>\n",
       "    <tr>\n",
       "      <th>2</th>\n",
       "      <td>15500</td>\n",
       "      <td>I stopped off in Seattle during a train tour o...</td>\n",
       "      <td>Chrome</td>\n",
       "      <td>Mobile</td>\n",
       "      <td>1289</td>\n",
       "    </tr>\n",
       "    <tr>\n",
       "      <th>3</th>\n",
       "      <td>5495</td>\n",
       "      <td>I have stayed at this hotel - or - times now f...</td>\n",
       "      <td>Mozilla Firefox</td>\n",
       "      <td>Desktop</td>\n",
       "      <td>253</td>\n",
       "    </tr>\n",
       "    <tr>\n",
       "      <th>4</th>\n",
       "      <td>18570</td>\n",
       "      <td>Excellent location with hop on hop off city tr...</td>\n",
       "      <td>Edge</td>\n",
       "      <td>Mobile</td>\n",
       "      <td>271</td>\n",
       "    </tr>\n",
       "  </tbody>\n",
       "</table>\n",
       "</div>"
      ],
      "text/plain": [
       "   User_ID                                        Description  \\\n",
       "0     9602  A friend and I stayed in this hotel when we we...   \n",
       "1     8749  I enjoy staying here when I have early flights...   \n",
       "2    15500  I stopped off in Seattle during a train tour o...   \n",
       "3     5495  I have stayed at this hotel - or - times now f...   \n",
       "4    18570  Excellent location with hop on hop off city tr...   \n",
       "\n",
       "      Browser_Used Device_Used  Review_length  \n",
       "0             Edge     Desktop           3008  \n",
       "1    Google Chrome      Mobile            535  \n",
       "2           Chrome      Mobile           1289  \n",
       "3  Mozilla Firefox     Desktop            253  \n",
       "4             Edge      Mobile            271  "
      ]
     },
     "execution_count": 15,
     "metadata": {},
     "output_type": "execute_result"
    }
   ],
   "source": [
    "test_data['Review_length'] = test_data['Description'].apply(len)\n",
    "test_data.head()"
   ]
  },
  {
   "cell_type": "markdown",
   "metadata": {},
   "source": [
    "### Data Visualization"
   ]
  },
  {
   "cell_type": "code",
   "execution_count": 16,
   "metadata": {
    "scrolled": true
   },
   "outputs": [
    {
     "data": {
      "image/png": "[encoded data removed]",
      "text/plain": [
       "<Figure size 432x288 with 1 Axes>"
      ]
     },
     "metadata": {},
     "output_type": "display_data"
    }
   ],
   "source": [
    "# bar chart\n",
    "count_types = pd.value_counts(train_data['Is_Response'])\n",
    "count_types.plot(kind = 'bar', color = ['blue', 'orange'])\n",
    "plt.title('Bar Chart')\n",
    "plt.show()"
   ]
  },
  {
   "cell_type": "code",
   "execution_count": 17,
   "metadata": {
    "scrolled": true
   },
   "outputs": [
    {
     "data": {
      "image/png": "[encoded data removed]",
      "text/plain": [
       "<Figure size 432x288 with 1 Axes>"
      ]
     },
     "metadata": {},
     "output_type": "display_data"
    }
   ],
   "source": [
    "# pie chart\n",
    "count_types.plot(kind = 'pie', autopct='%1.0f%%')\n",
    "plt.ylabel('')\n",
    "plt.title('Pie Chart')\n",
    "plt.show()"
   ]
  },
  {
   "cell_type": "code",
   "execution_count": 18,
   "metadata": {},
   "outputs": [
    {
     "data": {
      "text/plain": [
       "<seaborn.axisgrid.FacetGrid at 0x1f42806a7f0>"
      ]
     },
     "execution_count": 18,
     "metadata": {},
     "output_type": "execute_result"
    },
    {
     "data": {
      "image/png": "[encoded data removed]",
      "text/plain": [
       "<Figure size 432x216 with 2 Axes>"
      ]
     },
     "metadata": {},
     "output_type": "display_data"
    }
   ],
   "source": [
    "train_data['Description']=train_data['Description'].astype(str)\n",
    "train_data['Review_length']=train_data['Description'].apply(len)\n",
    "g = sns.FacetGrid(data=train_data, col='Is_Response')\n",
    "g.map(plt.hist, 'Review_length', bins=50)"
   ]
  },
  {
   "cell_type": "code",
   "execution_count": 19,
   "metadata": {},
   "outputs": [
    {
     "data": {
      "text/plain": [
       "<matplotlib.axes._subplots.AxesSubplot at 0x1f428531b38>"
      ]
     },
     "execution_count": 19,
     "metadata": {},
     "output_type": "execute_result"
    },
    {
     "data": {
      "image/png": "[encoded data removed]",
      "text/plain": [
       "<Figure size 576x576 with 1 Axes>"
      ]
     },
     "metadata": {},
     "output_type": "display_data"
    }
   ],
   "source": [
    "plt.figure(figsize=(8,8))\n",
    "sns.boxplot(x='Is_Response', y='Review_length', data=train_data)"
   ]
  },
  {
   "cell_type": "markdown",
   "metadata": {},
   "source": [
    "### Check The Response And Their Frequency"
   ]
  },
  {
   "cell_type": "code",
   "execution_count": 20,
   "metadata": {},
   "outputs": [
    {
     "name": "stdout",
     "output_type": "stream",
     "text": [
      "['Bad' 'Good']\n",
      "[ 9605 20567]\n"
     ]
    }
   ],
   "source": [
    "# Print the unique classes and their counts/frequencies\n",
    "classes1 = np.unique(train_data['Is_Response'], return_counts=True) # np.unique returns a tuple with class names and counts\n",
    "print(classes1[0]) #Print the list of unique classes\n",
    "print(classes1[1]) #Print the list of frequencies of the above classes"
   ]
  },
  {
   "cell_type": "code",
   "execution_count": 21,
   "metadata": {
    "scrolled": true
   },
   "outputs": [
    {
     "name": "stdout",
     "output_type": "stream",
     "text": [
      "['Desktop' 'Mobile' 'Tablet']\n",
      "[11630 11639  6903]\n"
     ]
    }
   ],
   "source": [
    "# Print the unique classes and their counts/frequencies\n",
    "classes2 = np.unique(train_data['Device_Used'], return_counts=True) # np.unique returns a tuple with class names and counts\n",
    "print(classes2[0]) #Print the list of unique classes\n",
    "print(classes2[1]) #Print the list of frequencies of the above classes"
   ]
  },
  {
   "cell_type": "code",
   "execution_count": 22,
   "metadata": {},
   "outputs": [
    {
     "name": "stdout",
     "output_type": "stream",
     "text": [
      "['Chrome' 'Edge' 'Firefox' 'Google Chrome' 'IE' 'Internet Explorer'\n",
      " 'InternetExplorer' 'Mozilla' 'Mozilla Firefox' 'Opera' 'Safari']\n",
      "[1881 5530 5754 3597 1920 1635 3538 2397 3340  274  306]\n"
     ]
    }
   ],
   "source": [
    "# Print the unique classes and their counts/frequencies\n",
    "classes3 = np.unique(train_data['Browser_Used'], return_counts=True) # np.unique returns a tuple with class names and counts\n",
    "print(classes3[0]) #Print the list of unique classes\n",
    "print(classes3[1]) #Print the list of frequencies of the above classes"
   ]
  },
  {
   "cell_type": "code",
   "execution_count": 23,
   "metadata": {},
   "outputs": [
    {
     "data": {
      "text/plain": [
       "Good    20567\n",
       "Bad      9605\n",
       "Name: Is_Response, dtype: int64"
      ]
     },
     "execution_count": 23,
     "metadata": {},
     "output_type": "execute_result"
    }
   ],
   "source": [
    "pd.value_counts(train_data['Is_Response'])"
   ]
  },
  {
   "cell_type": "code",
   "execution_count": 24,
   "metadata": {},
   "outputs": [
    {
     "data": {
      "text/html": [
       "<div>\n",
       "<style scoped>\n",
       "    .dataframe tbody tr th:only-of-type {\n",
       "        vertical-align: middle;\n",
       "    }\n",
       "\n",
       "    .dataframe tbody tr th {\n",
       "        vertical-align: top;\n",
       "    }\n",
       "\n",
       "    .dataframe thead th {\n",
       "        text-align: right;\n",
       "    }\n",
       "</style>\n",
       "<table border=\"1\" class=\"dataframe\">\n",
       "  <thead>\n",
       "    <tr style=\"text-align: right;\">\n",
       "      <th></th>\n",
       "      <th>User_ID</th>\n",
       "      <th>Description</th>\n",
       "      <th>Browser_Used</th>\n",
       "      <th>Device_Used</th>\n",
       "      <th>Is_Response</th>\n",
       "      <th>Review_length</th>\n",
       "      <th>Response</th>\n",
       "    </tr>\n",
       "  </thead>\n",
       "  <tbody>\n",
       "    <tr>\n",
       "      <th>0</th>\n",
       "      <td>11755</td>\n",
       "      <td>After reading mixed reviews I almost didn't bo...</td>\n",
       "      <td>Google Chrome</td>\n",
       "      <td>Desktop</td>\n",
       "      <td>Good</td>\n",
       "      <td>1230</td>\n",
       "      <td>1</td>\n",
       "    </tr>\n",
       "    <tr>\n",
       "      <th>1</th>\n",
       "      <td>33912</td>\n",
       "      <td>This motor inn is located about - city blocks ...</td>\n",
       "      <td>Firefox</td>\n",
       "      <td>Tablet</td>\n",
       "      <td>Good</td>\n",
       "      <td>615</td>\n",
       "      <td>1</td>\n",
       "    </tr>\n",
       "    <tr>\n",
       "      <th>2</th>\n",
       "      <td>10143</td>\n",
       "      <td>It was our first time there and surely not our...</td>\n",
       "      <td>Google Chrome</td>\n",
       "      <td>Mobile</td>\n",
       "      <td>Good</td>\n",
       "      <td>505</td>\n",
       "      <td>1</td>\n",
       "    </tr>\n",
       "    <tr>\n",
       "      <th>3</th>\n",
       "      <td>33114</td>\n",
       "      <td>Great hotel in an excellent location, just off...</td>\n",
       "      <td>Mozilla</td>\n",
       "      <td>Desktop</td>\n",
       "      <td>Good</td>\n",
       "      <td>424</td>\n",
       "      <td>1</td>\n",
       "    </tr>\n",
       "    <tr>\n",
       "      <th>4</th>\n",
       "      <td>17464</td>\n",
       "      <td>We stayed at the hotel for - weeks to get away...</td>\n",
       "      <td>Google Chrome</td>\n",
       "      <td>Desktop</td>\n",
       "      <td>Good</td>\n",
       "      <td>654</td>\n",
       "      <td>1</td>\n",
       "    </tr>\n",
       "  </tbody>\n",
       "</table>\n",
       "</div>"
      ],
      "text/plain": [
       "   User_ID                                        Description   Browser_Used  \\\n",
       "0    11755  After reading mixed reviews I almost didn't bo...  Google Chrome   \n",
       "1    33912  This motor inn is located about - city blocks ...        Firefox   \n",
       "2    10143  It was our first time there and surely not our...  Google Chrome   \n",
       "3    33114  Great hotel in an excellent location, just off...        Mozilla   \n",
       "4    17464  We stayed at the hotel for - weeks to get away...  Google Chrome   \n",
       "\n",
       "  Device_Used Is_Response  Review_length  Response  \n",
       "0     Desktop        Good           1230         1  \n",
       "1      Tablet        Good            615         1  \n",
       "2      Mobile        Good            505         1  \n",
       "3     Desktop        Good            424         1  \n",
       "4     Desktop        Good            654         1  "
      ]
     },
     "execution_count": 24,
     "metadata": {},
     "output_type": "execute_result"
    }
   ],
   "source": [
    "#Convert Response Label to numerical values\n",
    "train_data['Response'] = train_data['Is_Response'].map({'Good': 1, 'Bad': 0})\n",
    "train_data.head()"
   ]
  },
  {
   "cell_type": "code",
   "execution_count": 25,
   "metadata": {},
   "outputs": [
    {
     "data": {
      "text/html": [
       "<div>\n",
       "<style scoped>\n",
       "    .dataframe tbody tr th:only-of-type {\n",
       "        vertical-align: middle;\n",
       "    }\n",
       "\n",
       "    .dataframe tbody tr th {\n",
       "        vertical-align: top;\n",
       "    }\n",
       "\n",
       "    .dataframe thead th {\n",
       "        text-align: right;\n",
       "    }\n",
       "</style>\n",
       "<table border=\"1\" class=\"dataframe\">\n",
       "  <thead>\n",
       "    <tr style=\"text-align: right;\">\n",
       "      <th></th>\n",
       "      <th>Description</th>\n",
       "      <th>Browser_Used</th>\n",
       "      <th>Device_Used</th>\n",
       "      <th>Is_Response</th>\n",
       "      <th>Review_length</th>\n",
       "      <th>Response</th>\n",
       "    </tr>\n",
       "  </thead>\n",
       "  <tbody>\n",
       "    <tr>\n",
       "      <th>0</th>\n",
       "      <td>After reading mixed reviews I almost didn't bo...</td>\n",
       "      <td>Google Chrome</td>\n",
       "      <td>Desktop</td>\n",
       "      <td>Good</td>\n",
       "      <td>1230</td>\n",
       "      <td>1</td>\n",
       "    </tr>\n",
       "    <tr>\n",
       "      <th>1</th>\n",
       "      <td>This motor inn is located about - city blocks ...</td>\n",
       "      <td>Firefox</td>\n",
       "      <td>Tablet</td>\n",
       "      <td>Good</td>\n",
       "      <td>615</td>\n",
       "      <td>1</td>\n",
       "    </tr>\n",
       "    <tr>\n",
       "      <th>2</th>\n",
       "      <td>It was our first time there and surely not our...</td>\n",
       "      <td>Google Chrome</td>\n",
       "      <td>Mobile</td>\n",
       "      <td>Good</td>\n",
       "      <td>505</td>\n",
       "      <td>1</td>\n",
       "    </tr>\n",
       "    <tr>\n",
       "      <th>3</th>\n",
       "      <td>Great hotel in an excellent location, just off...</td>\n",
       "      <td>Mozilla</td>\n",
       "      <td>Desktop</td>\n",
       "      <td>Good</td>\n",
       "      <td>424</td>\n",
       "      <td>1</td>\n",
       "    </tr>\n",
       "    <tr>\n",
       "      <th>4</th>\n",
       "      <td>We stayed at the hotel for - weeks to get away...</td>\n",
       "      <td>Google Chrome</td>\n",
       "      <td>Desktop</td>\n",
       "      <td>Good</td>\n",
       "      <td>654</td>\n",
       "      <td>1</td>\n",
       "    </tr>\n",
       "  </tbody>\n",
       "</table>\n",
       "</div>"
      ],
      "text/plain": [
       "                                         Description   Browser_Used  \\\n",
       "0  After reading mixed reviews I almost didn't bo...  Google Chrome   \n",
       "1  This motor inn is located about - city blocks ...        Firefox   \n",
       "2  It was our first time there and surely not our...  Google Chrome   \n",
       "3  Great hotel in an excellent location, just off...        Mozilla   \n",
       "4  We stayed at the hotel for - weeks to get away...  Google Chrome   \n",
       "\n",
       "  Device_Used Is_Response  Review_length  Response  \n",
       "0     Desktop        Good           1230         1  \n",
       "1      Tablet        Good            615         1  \n",
       "2      Mobile        Good            505         1  \n",
       "3     Desktop        Good            424         1  \n",
       "4     Desktop        Good            654         1  "
      ]
     },
     "execution_count": 25,
     "metadata": {},
     "output_type": "execute_result"
    }
   ],
   "source": [
    "train_data.drop(['User_ID'], axis = 1, inplace = True)\n",
    "train_data.head()"
   ]
  },
  {
   "cell_type": "code",
   "execution_count": 26,
   "metadata": {},
   "outputs": [
    {
     "data": {
      "text/html": [
       "<div>\n",
       "<style scoped>\n",
       "    .dataframe tbody tr th:only-of-type {\n",
       "        vertical-align: middle;\n",
       "    }\n",
       "\n",
       "    .dataframe tbody tr th {\n",
       "        vertical-align: top;\n",
       "    }\n",
       "\n",
       "    .dataframe thead th {\n",
       "        text-align: right;\n",
       "    }\n",
       "</style>\n",
       "<table border=\"1\" class=\"dataframe\">\n",
       "  <thead>\n",
       "    <tr style=\"text-align: right;\">\n",
       "      <th></th>\n",
       "      <th>Review_length</th>\n",
       "      <th>Response</th>\n",
       "    </tr>\n",
       "  </thead>\n",
       "  <tbody>\n",
       "    <tr>\n",
       "      <th>Review_length</th>\n",
       "      <td>1.000000</td>\n",
       "      <td>-0.165727</td>\n",
       "    </tr>\n",
       "    <tr>\n",
       "      <th>Response</th>\n",
       "      <td>-0.165727</td>\n",
       "      <td>1.000000</td>\n",
       "    </tr>\n",
       "  </tbody>\n",
       "</table>\n",
       "</div>"
      ],
      "text/plain": [
       "               Review_length  Response\n",
       "Review_length       1.000000 -0.165727\n",
       "Response           -0.165727  1.000000"
      ]
     },
     "execution_count": 26,
     "metadata": {},
     "output_type": "execute_result"
    }
   ],
   "source": [
    "train_data.corr()"
   ]
  },
  {
   "cell_type": "code",
   "execution_count": 27,
   "metadata": {},
   "outputs": [
    {
     "data": {
      "text/plain": [
       "<matplotlib.axes._subplots.AxesSubplot at 0x1f4285e3a58>"
      ]
     },
     "execution_count": 27,
     "metadata": {},
     "output_type": "execute_result"
    },
    {
     "data": {
      "image/png": "[encoded data removed]",
      "text/plain": [
       "<Figure size 432x288 with 2 Axes>"
      ]
     },
     "metadata": {},
     "output_type": "display_data"
    }
   ],
   "source": [
    "sns.heatmap(data=train_data.corr(), annot=True)"
   ]
  },
  {
   "cell_type": "markdown",
   "metadata": {},
   "source": [
    "### Remove All Unnecessary Columns"
   ]
  },
  {
   "cell_type": "code",
   "execution_count": 28,
   "metadata": {
    "scrolled": true
   },
   "outputs": [
    {
     "data": {
      "text/html": [
       "<div>\n",
       "<style scoped>\n",
       "    .dataframe tbody tr th:only-of-type {\n",
       "        vertical-align: middle;\n",
       "    }\n",
       "\n",
       "    .dataframe tbody tr th {\n",
       "        vertical-align: top;\n",
       "    }\n",
       "\n",
       "    .dataframe thead th {\n",
       "        text-align: right;\n",
       "    }\n",
       "</style>\n",
       "<table border=\"1\" class=\"dataframe\">\n",
       "  <thead>\n",
       "    <tr style=\"text-align: right;\">\n",
       "      <th></th>\n",
       "      <th>Description</th>\n",
       "      <th>Response</th>\n",
       "    </tr>\n",
       "  </thead>\n",
       "  <tbody>\n",
       "    <tr>\n",
       "      <th>0</th>\n",
       "      <td>After reading mixed reviews I almost didn't bo...</td>\n",
       "      <td>1</td>\n",
       "    </tr>\n",
       "    <tr>\n",
       "      <th>1</th>\n",
       "      <td>This motor inn is located about - city blocks ...</td>\n",
       "      <td>1</td>\n",
       "    </tr>\n",
       "    <tr>\n",
       "      <th>2</th>\n",
       "      <td>It was our first time there and surely not our...</td>\n",
       "      <td>1</td>\n",
       "    </tr>\n",
       "    <tr>\n",
       "      <th>3</th>\n",
       "      <td>Great hotel in an excellent location, just off...</td>\n",
       "      <td>1</td>\n",
       "    </tr>\n",
       "    <tr>\n",
       "      <th>4</th>\n",
       "      <td>We stayed at the hotel for - weeks to get away...</td>\n",
       "      <td>1</td>\n",
       "    </tr>\n",
       "  </tbody>\n",
       "</table>\n",
       "</div>"
      ],
      "text/plain": [
       "                                         Description  Response\n",
       "0  After reading mixed reviews I almost didn't bo...         1\n",
       "1  This motor inn is located about - city blocks ...         1\n",
       "2  It was our first time there and surely not our...         1\n",
       "3  Great hotel in an excellent location, just off...         1\n",
       "4  We stayed at the hotel for - weeks to get away...         1"
      ]
     },
     "execution_count": 28,
     "metadata": {},
     "output_type": "execute_result"
    }
   ],
   "source": [
    "train_data.drop(['Browser_Used','Device_Used','Is_Response','Review_length'], axis = 1, inplace = True)\n",
    "train_data.head()"
   ]
  },
  {
   "cell_type": "code",
   "execution_count": 29,
   "metadata": {},
   "outputs": [
    {
     "data": {
      "text/plain": [
       "1    20567\n",
       "0     9605\n",
       "Name: Response, dtype: int64"
      ]
     },
     "execution_count": 29,
     "metadata": {},
     "output_type": "execute_result"
    }
   ],
   "source": [
    "pd.value_counts(train_data['Response'])"
   ]
  },
  {
   "cell_type": "markdown",
   "metadata": {},
   "source": [
    "### Preprocessing"
   ]
  },
  {
   "cell_type": "code",
   "execution_count": 30,
   "metadata": {},
   "outputs": [
    {
     "data": {
      "text/plain": [
       "(30172, 2)"
      ]
     },
     "execution_count": 30,
     "metadata": {},
     "output_type": "execute_result"
    }
   ],
   "source": [
    "#removing the duplicates\n",
    "train_data=train_data.drop_duplicates(subset=['Description'])\n",
    "train_data.shape"
   ]
  },
  {
   "cell_type": "code",
   "execution_count": 31,
   "metadata": {},
   "outputs": [],
   "source": [
    "# splitting the columns\n",
    "X = train_data['Description']\n",
    "y = train_data['Response']"
   ]
  },
  {
   "cell_type": "code",
   "execution_count": 32,
   "metadata": {},
   "outputs": [],
   "source": [
    "# converting X and y to numpy array\n",
    "X = np.array(X)\n",
    "y = np.array(y)"
   ]
  },
  {
   "cell_type": "code",
   "execution_count": 33,
   "metadata": {
    "scrolled": true
   },
   "outputs": [
    {
     "name": "stdout",
     "output_type": "stream",
     "text": [
      "[\"after reading mixed reviews i almost didn't book at the w, but i was attending a concert at the pantages theatre and you can't get any more convenient than the w. for those using mass transit, it's literally on top of the hollywood and vine station - take the red line from union station.\\nattitude: yes, this is a new and very hip hotel. but every staff member i met was friendly and totally committed to service. from the valet parking to the front desk to room service to the men in black (security folks needed for the club scene), everyone was great.\\nfood: i always sample room service my first time at any property. food arrived earlier than promised and i was impressed. the onion soup gratinee was simply the best i've ever had. a simple prime beef cheeseburger was great: a hand formed patty in a light bun with the usual trimmings and condiments. and the french fries... i've never been impressed by fries before but now i am.\\nroom: trendy, well appointed and comfortable. the universal cell phone (or other gizmo) charger was handy. if you're worried about party noise from the clubs, spend a few extra bucks for an exterior-facing room. i did and had no trouble with noise.\\nsummary: would i come here again? absolutely.\"\n",
      " \"this motor inn is located about - city blocks from fisherman's warf and about - blocks from the embarcadero. you are in north beach and walking distance from china town and all city transportation. the hotel itself is small and clean. it is old and not updated, but the beds were still good and the room was well cleaned daily. my only complaint would be the bathroom space being a bit small for our family. there was a great, large, flat screen (not that we were there very often)! the staff was extremely accommodating and helpful with recommendations and directions. there is free parking here, which is amazing!\"\n",
      " 'it was our first time there and surely not our last. arrived very early off the train and went there to drop off our luggage but to our surprise the room was already ! the rooftop bar ia certainly beautiful. the hospitality within the hotel superb ! i admireed the european breakfast but wished they had more healthy choices. perhaps a pan of scrambled eggs instead of all the pastries and rolls. too many carbs and not enough protein. wish there ahad been a coffe maker in the room too. see you all soon.'\n",
      " 'great hotel in an excellent location, just off times square and next door to the nederlander theatre (home of the musical rent). rooms very clean and lovely fresh muffins at breakfast!\\nbeware if your room is on the first floor, we could hear the noise from the hotel bar below. it does close at a reasonable hour,but if you need an early night after a hard day sightseeing then ask for a high floor cos it did keep us awake.'\n",
      " 'we stayed at the hotel for - weeks to get away from a very long massachusetts winter. the hotel is on an island with a waterway in front and a marina in the back. our room had a table so we could play cards eat etc. with the water view. \\nthe only thing negative at all is the light was a little dim in the room.\\nthe staff is very friendly & helpful. they were always willing to recommend restaurants and gave us coupons to the many attractions that san diego has to offer. they let us use beach bikes to explore the island. there is little or no traffic there and a trail that is on the other side of the marina.\\nit was a great vacation!\\nwe will be back!']\n"
     ]
    }
   ],
   "source": [
    "# coverting the message into lower case, as hello, Hello, HELLO means the same\n",
    "for i in range(len(X)):\n",
    "    X[i] = X[i].lower()\n",
    "    \n",
    "# first 5 Description after converting text into lower case\n",
    "print(X[:5])"
   ]
  },
  {
   "cell_type": "code",
   "execution_count": 34,
   "metadata": {
    "scrolled": true
   },
   "outputs": [
    {
     "name": "stdout",
     "output_type": "stream",
     "text": [
      "['after reading mixed reviews i almost didn t book at the w but i was attending a concert at the pantages theatre and you can t get any more convenient than the w for those using mass transit it s literally on top of the hollywood and vine station take the red line from union station attitude yes this is a new and very hip hotel but every staff member i met was friendly and totally committed to service from the valet parking to the front desk to room service to the men in black security folks needed for the club scene everyone was great food i always sample room service my first time at any property food arrived earlier than promised and i was impressed the onion soup gratinee was simply the best i ve ever had a simple prime beef cheeseburger was great a hand formed patty in a light bun with the usual trimmings and condiments and the french fries i ve never been impressed by fries before but now i am room trendy well appointed and comfortable the universal cell phone or other gizmo charger was handy if you re worried about party noise from the clubs spend a few extra bucks for an exterior facing room i did and had no trouble with noise summary would i come here again absolutely '\n",
      " 'this motor inn is located about city blocks from fisherman s warf and about blocks from the embarcadero you are in north beach and walking distance from china town and all city transportation the hotel itself is small and clean it is old and not updated but the beds were still good and the room was well cleaned daily my only complaint would be the bathroom space being a bit small for our family there was a great large flat screen not that we were there very often the staff was extremely accommodating and helpful with recommendations and directions there is free parking here which is amazing '\n",
      " 'it was our first time there and surely not our last arrived very early off the train and went there to drop off our luggage but to our surprise the room was already the rooftop bar ia certainly beautiful the hospitality within the hotel superb i admireed the european breakfast but wished they had more healthy choices perhaps a pan of scrambled eggs instead of all the pastries and rolls too many carbs and not enough protein wish there ahad been a coffe maker in the room too see you all soon '\n",
      " 'great hotel in an excellent location just off times square and next door to the nederlander theatre home of the musical rent rooms very clean and lovely fresh muffins at breakfast beware if your room is on the first floor we could hear the noise from the hotel bar below it does close at a reasonable hour but if you need an early night after a hard day sightseeing then ask for a high floor cos it did keep us awake '\n",
      " 'we stayed at the hotel for weeks to get away from a very long massachusetts winter the hotel is on an island with a waterway in front and a marina in the back our room had a table so we could play cards eat etc with the water view the only thing negative at all is the light was a little dim in the room the staff is very friendly helpful they were always willing to recommend restaurants and gave us coupons to the many attractions that san diego has to offer they let us use beach bikes to explore the island there is little or no traffic there and a trail that is on the other side of the marina it was a great vacation we will be back ']\n"
     ]
    }
   ],
   "source": [
    "# removing the extra spaces, digits and non word characters like punctuations, ascii etc.\n",
    "for i in range(len(X)):\n",
    "    X[i] = re.sub(r'\\W',' ',X[i])\n",
    "    X[i] = re.sub(r'\\d',' ',X[i])\n",
    "    X[i] = re.sub(r'\\s+',' ',X[i])\n",
    "\n",
    "# first 5 messages after removing the extras\n",
    "print(X[:5])"
   ]
  },
  {
   "cell_type": "code",
   "execution_count": 35,
   "metadata": {
    "scrolled": true
   },
   "outputs": [
    {
     "name": "stdout",
     "output_type": "stream",
     "text": [
      "['reading mixed reviews almost book w attending concert pantages theatre get convenient w using mass transit literally top hollywood vine station take red line union station attitude yes new hip hotel every staff member met friendly totally committed service valet parking front desk room service men black security folks needed club scene everyone great food always sample room service first time property food arrived earlier promised impressed onion soup gratinee simply best ever simple prime beef cheeseburger great hand formed patty light bun usual trimmings condiments french fries never impressed fries room trendy well appointed comfortable universal cell phone gizmo charger handy worried party noise clubs spend extra bucks exterior facing room trouble noise summary would come absolutely'\n",
      " 'motor inn located city blocks fisherman warf blocks embarcadero north beach walking distance china town city transportation hotel small clean old updated beds still good room well cleaned daily complaint would bathroom space bit small family great large flat screen often staff extremely accommodating helpful recommendations directions free parking amazing'\n",
      " 'first time surely last arrived early train went drop luggage surprise room already rooftop bar ia certainly beautiful hospitality within hotel superb admireed european breakfast wished healthy choices perhaps pan scrambled eggs instead pastries rolls many carbs enough protein wish ahad coffe maker room see soon'\n",
      " 'great hotel excellent location times square next door nederlander theatre home musical rent rooms clean lovely fresh muffins breakfast beware room first floor could hear noise hotel bar close reasonable hour need early night hard day sightseeing ask high floor cos keep us awake'\n",
      " 'stayed hotel weeks get away long massachusetts winter hotel island waterway front marina back room table could play cards eat etc water view thing negative light little dim room staff friendly helpful always willing recommend restaurants gave us coupons many attractions san diego offer let us use beach bikes explore island little traffic trail side marina great vacation back']\n"
     ]
    }
   ],
   "source": [
    "# removing the stop words\n",
    "from nltk.corpus import stopwords\n",
    "for i in range(len(X)):\n",
    "    words = nltk.word_tokenize(X[i])\n",
    "    new_words = [word for word in words if word not in stopwords.words('english')]\n",
    "    X[i] = ' '.join(new_words)\n",
    "    \n",
    "# first 5 Description after removing the stopwords\n",
    "print(X[:5])"
   ]
  },
  {
   "cell_type": "code",
   "execution_count": 36,
   "metadata": {
    "scrolled": false
   },
   "outputs": [
    {
     "name": "stdout",
     "output_type": "stream",
     "text": [
      "['read mix review almost book w attend concert pantag theatr get conveni w use mass transit liter top hollywood vine station take red line union station attitud ye new hip hotel everi staff member met friendli total commit servic valet park front desk room servic men black secur folk need club scene everyon great food alway sampl room servic first time properti food arriv earlier promis impress onion soup gratine simpli best ever simpl prime beef cheeseburg great hand form patti light bun usual trim condiment french fri never impress fri room trendi well appoint comfort univers cell phone gizmo charger handi worri parti nois club spend extra buck exterior face room troubl nois summari would come absolut'\n",
      " 'motor inn locat citi block fisherman warf block embarcadero north beach walk distanc china town citi transport hotel small clean old updat bed still good room well clean daili complaint would bathroom space bit small famili great larg flat screen often staff extrem accommod help recommend direct free park amaz'\n",
      " 'first time sure last arriv earli train went drop luggag surpris room alreadi rooftop bar ia certainli beauti hospit within hotel superb admire european breakfast wish healthi choic perhap pan scrambl egg instead pastri roll mani carb enough protein wish ahad coff maker room see soon'\n",
      " 'great hotel excel locat time squar next door nederland theatr home music rent room clean love fresh muffin breakfast bewar room first floor could hear nois hotel bar close reason hour need earli night hard day sightse ask high floor co keep us awak'\n",
      " 'stay hotel week get away long massachusett winter hotel island waterway front marina back room tabl could play card eat etc water view thing neg light littl dim room staff friendli help alway will recommend restaur gave us coupon mani attract san diego offer let us use beach bike explor island littl traffic trail side marina great vacat back']\n"
     ]
    }
   ],
   "source": [
    "# stemming - get the root of each word\n",
    "from nltk.stem import PorterStemmer\n",
    "stemmer = PorterStemmer()\n",
    "\n",
    "for i in range(len(X)):\n",
    "    words = nltk.word_tokenize(X[i])\n",
    "    new_words = [stemmer.stem(word) for word in words]\n",
    "    X[i] = ' '.join(new_words)\n",
    "\n",
    "# first 5 Description after stemming\n",
    "print(X[:5])"
   ]
  },
  {
   "cell_type": "markdown",
   "metadata": {},
   "source": [
    "### Text Transformation: TF-IDF model"
   ]
  },
  {
   "cell_type": "code",
   "execution_count": 37,
   "metadata": {},
   "outputs": [],
   "source": [
    "# creating the tf-idf model\n",
    "from sklearn.feature_extraction.text import TfidfVectorizer\n",
    "vectorizer = TfidfVectorizer('english')\n",
    "X = vectorizer.fit_transform(X)"
   ]
  },
  {
   "cell_type": "markdown",
   "metadata": {},
   "source": [
    "### Splitting the Dataset"
   ]
  },
  {
   "cell_type": "code",
   "execution_count": 38,
   "metadata": {},
   "outputs": [
    {
     "name": "stdout",
     "output_type": "stream",
     "text": [
      "Number of rows in the total set: 30172\n",
      "Number of rows in the training set: 24137\n",
      "Number of rows in the test set: 6035\n"
     ]
    }
   ],
   "source": [
    "# splitting the dataset into test and train data\n",
    "from sklearn.model_selection import train_test_split\n",
    "X_train, X_test, y_train, y_test = train_test_split(X, y, test_size = 0.2, random_state = 42)\n",
    "\n",
    "print('Number of rows in the total set: {}'.format(train_data.shape[0]))\n",
    "print('Number of rows in the training set: {}'.format(X_train.shape[0]))\n",
    "print('Number of rows in the test set: {}'.format(X_test.shape[0]))"
   ]
  },
  {
   "cell_type": "markdown",
   "metadata": {},
   "source": [
    "## Machine Learning Models"
   ]
  },
  {
   "cell_type": "markdown",
   "metadata": {},
   "source": [
    "#### Multinomial Naive Bayes Classifier"
   ]
  },
  {
   "cell_type": "code",
   "execution_count": 39,
   "metadata": {},
   "outputs": [
    {
     "name": "stdout",
     "output_type": "stream",
     "text": [
      "Accuracy for Multinomial Naive Bayes Classifier:  0.8510356255178128\n"
     ]
    }
   ],
   "source": [
    "# running multinomial naive bayes classifier\n",
    "from sklearn.naive_bayes import MultinomialNB\n",
    "clf = MultinomialNB(alpha = 0.2)\n",
    "clf = clf.fit(X_train, y_train)\n",
    "pred = clf.predict(X_test)\n",
    "accuracy = accuracy_score(y_test, pred)\n",
    "print('Accuracy for Multinomial Naive Bayes Classifier: ', accuracy)"
   ]
  },
  {
   "cell_type": "markdown",
   "metadata": {},
   "source": [
    "#### Linear Support Vector Machine Classifier"
   ]
  },
  {
   "cell_type": "code",
   "execution_count": 40,
   "metadata": {},
   "outputs": [
    {
     "name": "stdout",
     "output_type": "stream",
     "text": [
      "Accuracy for Linear SVM Classifier:  0.8768848384424193\n"
     ]
    }
   ],
   "source": [
    "# running linear support vector machine classifier\n",
    "from sklearn.svm import SVC\n",
    "clf = SVC(kernel = \"linear\")\n",
    "clf = clf.fit(X_train, y_train)\n",
    "pred = clf.predict(X_test)\n",
    "accuracy = accuracy_score(y_test, pred)\n",
    "print('Accuracy for Linear SVM Classifier: ', accuracy)"
   ]
  },
  {
   "cell_type": "markdown",
   "metadata": {},
   "source": [
    "#### Decision Tree Classifier"
   ]
  },
  {
   "cell_type": "code",
   "execution_count": 41,
   "metadata": {
    "scrolled": false
   },
   "outputs": [
    {
     "name": "stdout",
     "output_type": "stream",
     "text": [
      "Accuracy for Decision Tree Classifier:  0.7403479701739851\n"
     ]
    }
   ],
   "source": [
    "# running decision tree classifier\n",
    "from sklearn import tree\n",
    "clf = tree.DecisionTreeClassifier()\n",
    "clf = clf.fit(X_train, y_train)\n",
    "pred = clf.predict(X_test)\n",
    "accuracy = accuracy_score(y_test, pred)\n",
    "print('Accuracy for Decision Tree Classifier: ', accuracy)"
   ]
  },
  {
   "cell_type": "markdown",
   "metadata": {},
   "source": [
    "#### Bernoulli Naive Bayes Classifier"
   ]
  },
  {
   "cell_type": "code",
   "execution_count": 42,
   "metadata": {},
   "outputs": [
    {
     "name": "stdout",
     "output_type": "stream",
     "text": [
      "Accuracy for Bernoulli Naive Bayes Classifier:  0.815741507870754\n"
     ]
    }
   ],
   "source": [
    "# running bernoulli naive bayes classifier\n",
    "from sklearn.naive_bayes import BernoulliNB\n",
    "clf = BernoulliNB(alpha = 0.2)\n",
    "clf = clf.fit(X_train, y_train)\n",
    "pred = clf.predict(X_test)\n",
    "accuracy = accuracy_score(y_test, pred)\n",
    "print('Accuracy for Bernoulli Naive Bayes Classifier: ', accuracy)"
   ]
  },
  {
   "cell_type": "markdown",
   "metadata": {},
   "source": [
    "#### Logistic Regression"
   ]
  },
  {
   "cell_type": "code",
   "execution_count": 43,
   "metadata": {
    "scrolled": true
   },
   "outputs": [
    {
     "name": "stdout",
     "output_type": "stream",
     "text": [
      "Accuracy for Logistic Regression:  0.8765534382767192\n"
     ]
    }
   ],
   "source": [
    "# running logistic regression\n",
    "from sklearn.linear_model import LogisticRegression\n",
    "clf = LogisticRegression()\n",
    "clf = clf.fit(X_train, y_train)\n",
    "pred = clf.predict(X_test)\n",
    "accuracy = accuracy_score(y_test, pred)\n",
    "print('Accuracy for Logistic Regression: ', accuracy)"
   ]
  },
  {
   "cell_type": "markdown",
   "metadata": {},
   "source": [
    "#### Random Forest Classifier"
   ]
  },
  {
   "cell_type": "code",
   "execution_count": 44,
   "metadata": {},
   "outputs": [
    {
     "name": "stdout",
     "output_type": "stream",
     "text": [
      "Accuracy for Random Forest Classifier:  0.8029826014913007\n"
     ]
    }
   ],
   "source": [
    "# running random forest classifier\n",
    "from sklearn.ensemble import RandomForestClassifier\n",
    "clf = RandomForestClassifier()\n",
    "clf = clf.fit(X_train, y_train)\n",
    "pred = clf.predict(X_test)\n",
    "accuracy = accuracy_score(y_test, pred)\n",
    "print('Accuracy for Random Forest Classifier: ', accuracy)"
   ]
  },
  {
   "cell_type": "markdown",
   "metadata": {},
   "source": [
    "#### Ada Boost Classifier"
   ]
  },
  {
   "cell_type": "code",
   "execution_count": 45,
   "metadata": {},
   "outputs": [
    {
     "name": "stdout",
     "output_type": "stream",
     "text": [
      "Accuracy for AdaBoost Classifier:  0.831814415907208\n"
     ]
    }
   ],
   "source": [
    "# running adaboost classifier\n",
    "from sklearn.ensemble import AdaBoostClassifier\n",
    "clf = AdaBoostClassifier()\n",
    "clf = clf.fit(X_train, y_train)\n",
    "pred = clf.predict(X_test)\n",
    "accuracy = accuracy_score(y_test, pred)\n",
    "print('Accuracy for AdaBoost Classifier: ', accuracy)"
   ]
  },
  {
   "cell_type": "markdown",
   "metadata": {},
   "source": [
    "#### K Neighbour Classifier"
   ]
  },
  {
   "cell_type": "code",
   "execution_count": 46,
   "metadata": {},
   "outputs": [
    {
     "name": "stdout",
     "output_type": "stream",
     "text": [
      "Accuracy for K Neighbors Classifier:  0.7903893951946976\n"
     ]
    }
   ],
   "source": [
    "# running kneighborsclassifier classifier\n",
    "from sklearn.neighbors import KNeighborsClassifier\n",
    "clf = KNeighborsClassifier()\n",
    "clf = clf.fit(X_train, y_train)\n",
    "pred = clf.predict(X_test)\n",
    "accuracy = accuracy_score(y_test, pred)\n",
    "print('Accuracy for K Neighbors Classifier: ', accuracy)"
   ]
  },
  {
   "cell_type": "code",
   "execution_count": null,
   "metadata": {},
   "outputs": [],
   "source": []
  }
 ],
 "metadata": {
  "kernelspec": {
   "display_name": "Python 3",
   "language": "python",
   "name": "python3"
  },
  "language_info": {
   "codemirror_mode": {
    "name": "ipython",
    "version": 3
   },
   "file_extension": ".py",
   "mimetype": "text/x-python",
   "name": "python",
   "nbconvert_exporter": "python",
   "pygments_lexer": "ipython3",
   "version": "3.6.5"
  }
 },
 "nbformat": 4,
 "nbformat_minor": 2
}
